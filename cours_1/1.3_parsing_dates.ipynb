{
 "cells": [
  {
   "cell_type": "markdown",
   "id": "500621ac",
   "metadata": {},
   "source": [
    "# Parsing Dates"
   ]
  },
  {
   "cell_type": "markdown",
   "id": "331bf3fb",
   "metadata": {},
   "source": [
    "## 1. Tutoriel"
   ]
  },
  {
   "cell_type": "code",
   "execution_count": 1,
   "id": "d9eeb8cb",
   "metadata": {},
   "outputs": [],
   "source": [
    "# modules we'll use\n",
    "import pandas as pd\n",
    "import numpy as np\n",
    "import seaborn as sns\n",
    "import datetime\n",
    "\n",
    "# read in our data\n",
    "landslides = pd.read_csv(\"../Data/data1/catalog.csv\")\n",
    "\n",
    "# set seed for reproducibility\n",
    "np.random.seed(0)"
   ]
  },
  {
   "cell_type": "code",
   "execution_count": 2,
   "id": "a46fadca",
   "metadata": {},
   "outputs": [
    {
     "data": {
      "text/html": [
       "<div>\n",
       "<style scoped>\n",
       "    .dataframe tbody tr th:only-of-type {\n",
       "        vertical-align: middle;\n",
       "    }\n",
       "\n",
       "    .dataframe tbody tr th {\n",
       "        vertical-align: top;\n",
       "    }\n",
       "\n",
       "    .dataframe thead th {\n",
       "        text-align: right;\n",
       "    }\n",
       "</style>\n",
       "<table border=\"1\" class=\"dataframe\">\n",
       "  <thead>\n",
       "    <tr style=\"text-align: right;\">\n",
       "      <th></th>\n",
       "      <th>id</th>\n",
       "      <th>date</th>\n",
       "      <th>time</th>\n",
       "      <th>continent_code</th>\n",
       "      <th>country_name</th>\n",
       "      <th>country_code</th>\n",
       "      <th>state/province</th>\n",
       "      <th>population</th>\n",
       "      <th>city/town</th>\n",
       "      <th>distance</th>\n",
       "      <th>...</th>\n",
       "      <th>geolocation</th>\n",
       "      <th>hazard_type</th>\n",
       "      <th>landslide_type</th>\n",
       "      <th>landslide_size</th>\n",
       "      <th>trigger</th>\n",
       "      <th>storm_name</th>\n",
       "      <th>injuries</th>\n",
       "      <th>fatalities</th>\n",
       "      <th>source_name</th>\n",
       "      <th>source_link</th>\n",
       "    </tr>\n",
       "  </thead>\n",
       "  <tbody>\n",
       "    <tr>\n",
       "      <th>0</th>\n",
       "      <td>34</td>\n",
       "      <td>3/2/07</td>\n",
       "      <td>Night</td>\n",
       "      <td>NaN</td>\n",
       "      <td>United States</td>\n",
       "      <td>US</td>\n",
       "      <td>Virginia</td>\n",
       "      <td>16000</td>\n",
       "      <td>Cherry Hill</td>\n",
       "      <td>3.40765</td>\n",
       "      <td>...</td>\n",
       "      <td>(38.600900000000003, -77.268199999999993)</td>\n",
       "      <td>Landslide</td>\n",
       "      <td>Landslide</td>\n",
       "      <td>Small</td>\n",
       "      <td>Rain</td>\n",
       "      <td>NaN</td>\n",
       "      <td>NaN</td>\n",
       "      <td>NaN</td>\n",
       "      <td>NBC 4 news</td>\n",
       "      <td>http://www.nbc4.com/news/11186871/detail.html</td>\n",
       "    </tr>\n",
       "    <tr>\n",
       "      <th>1</th>\n",
       "      <td>42</td>\n",
       "      <td>3/22/07</td>\n",
       "      <td>NaN</td>\n",
       "      <td>NaN</td>\n",
       "      <td>United States</td>\n",
       "      <td>US</td>\n",
       "      <td>Ohio</td>\n",
       "      <td>17288</td>\n",
       "      <td>New Philadelphia</td>\n",
       "      <td>3.33522</td>\n",
       "      <td>...</td>\n",
       "      <td>(40.517499999999998, -81.430499999999995)</td>\n",
       "      <td>Landslide</td>\n",
       "      <td>Landslide</td>\n",
       "      <td>Small</td>\n",
       "      <td>Rain</td>\n",
       "      <td>NaN</td>\n",
       "      <td>NaN</td>\n",
       "      <td>NaN</td>\n",
       "      <td>Canton Rep.com</td>\n",
       "      <td>http://www.cantonrep.com/index.php?ID=345054&amp;C...</td>\n",
       "    </tr>\n",
       "    <tr>\n",
       "      <th>2</th>\n",
       "      <td>56</td>\n",
       "      <td>4/6/07</td>\n",
       "      <td>NaN</td>\n",
       "      <td>NaN</td>\n",
       "      <td>United States</td>\n",
       "      <td>US</td>\n",
       "      <td>Pennsylvania</td>\n",
       "      <td>15930</td>\n",
       "      <td>Wilkinsburg</td>\n",
       "      <td>2.91977</td>\n",
       "      <td>...</td>\n",
       "      <td>(40.4377, -79.915999999999997)</td>\n",
       "      <td>Landslide</td>\n",
       "      <td>Landslide</td>\n",
       "      <td>Small</td>\n",
       "      <td>Rain</td>\n",
       "      <td>NaN</td>\n",
       "      <td>NaN</td>\n",
       "      <td>NaN</td>\n",
       "      <td>The Pittsburgh Channel.com</td>\n",
       "      <td>https://web.archive.org/web/20080423132842/htt...</td>\n",
       "    </tr>\n",
       "    <tr>\n",
       "      <th>3</th>\n",
       "      <td>59</td>\n",
       "      <td>4/14/07</td>\n",
       "      <td>NaN</td>\n",
       "      <td>NaN</td>\n",
       "      <td>Canada</td>\n",
       "      <td>CA</td>\n",
       "      <td>Quebec</td>\n",
       "      <td>42786</td>\n",
       "      <td>Châteauguay</td>\n",
       "      <td>2.98682</td>\n",
       "      <td>...</td>\n",
       "      <td>(45.322600000000001, -73.777100000000004)</td>\n",
       "      <td>Landslide</td>\n",
       "      <td>Riverbank collapse</td>\n",
       "      <td>Small</td>\n",
       "      <td>Rain</td>\n",
       "      <td>NaN</td>\n",
       "      <td>NaN</td>\n",
       "      <td>NaN</td>\n",
       "      <td>Le Soleil</td>\n",
       "      <td>http://www.hebdos.net/lsc/edition162007/articl...</td>\n",
       "    </tr>\n",
       "    <tr>\n",
       "      <th>4</th>\n",
       "      <td>61</td>\n",
       "      <td>4/15/07</td>\n",
       "      <td>NaN</td>\n",
       "      <td>NaN</td>\n",
       "      <td>United States</td>\n",
       "      <td>US</td>\n",
       "      <td>Kentucky</td>\n",
       "      <td>6903</td>\n",
       "      <td>Pikeville</td>\n",
       "      <td>5.66542</td>\n",
       "      <td>...</td>\n",
       "      <td>(37.432499999999997, -82.493099999999998)</td>\n",
       "      <td>Landslide</td>\n",
       "      <td>Landslide</td>\n",
       "      <td>Small</td>\n",
       "      <td>Downpour</td>\n",
       "      <td>NaN</td>\n",
       "      <td>NaN</td>\n",
       "      <td>0.0</td>\n",
       "      <td>Matthew Crawford (KGS)</td>\n",
       "      <td>NaN</td>\n",
       "    </tr>\n",
       "  </tbody>\n",
       "</table>\n",
       "<p>5 rows × 23 columns</p>\n",
       "</div>"
      ],
      "text/plain": [
       "   id     date   time continent_code   country_name country_code  \\\n",
       "0  34   3/2/07  Night            NaN  United States           US   \n",
       "1  42  3/22/07    NaN            NaN  United States           US   \n",
       "2  56   4/6/07    NaN            NaN  United States           US   \n",
       "3  59  4/14/07    NaN            NaN         Canada           CA   \n",
       "4  61  4/15/07    NaN            NaN  United States           US   \n",
       "\n",
       "  state/province  population         city/town  distance  ...  \\\n",
       "0       Virginia       16000       Cherry Hill   3.40765  ...   \n",
       "1           Ohio       17288  New Philadelphia   3.33522  ...   \n",
       "2   Pennsylvania       15930       Wilkinsburg   2.91977  ...   \n",
       "3         Quebec       42786       Châteauguay   2.98682  ...   \n",
       "4       Kentucky        6903         Pikeville   5.66542  ...   \n",
       "\n",
       "                                 geolocation  hazard_type      landslide_type  \\\n",
       "0  (38.600900000000003, -77.268199999999993)    Landslide           Landslide   \n",
       "1  (40.517499999999998, -81.430499999999995)    Landslide           Landslide   \n",
       "2             (40.4377, -79.915999999999997)    Landslide           Landslide   \n",
       "3  (45.322600000000001, -73.777100000000004)    Landslide  Riverbank collapse   \n",
       "4  (37.432499999999997, -82.493099999999998)    Landslide           Landslide   \n",
       "\n",
       "  landslide_size   trigger storm_name injuries fatalities  \\\n",
       "0          Small      Rain        NaN      NaN        NaN   \n",
       "1          Small      Rain        NaN      NaN        NaN   \n",
       "2          Small      Rain        NaN      NaN        NaN   \n",
       "3          Small      Rain        NaN      NaN        NaN   \n",
       "4          Small  Downpour        NaN      NaN        0.0   \n",
       "\n",
       "                  source_name  \\\n",
       "0                  NBC 4 news   \n",
       "1              Canton Rep.com   \n",
       "2  The Pittsburgh Channel.com   \n",
       "3                   Le Soleil   \n",
       "4      Matthew Crawford (KGS)   \n",
       "\n",
       "                                         source_link  \n",
       "0      http://www.nbc4.com/news/11186871/detail.html  \n",
       "1  http://www.cantonrep.com/index.php?ID=345054&C...  \n",
       "2  https://web.archive.org/web/20080423132842/htt...  \n",
       "3  http://www.hebdos.net/lsc/edition162007/articl...  \n",
       "4                                                NaN  \n",
       "\n",
       "[5 rows x 23 columns]"
      ]
     },
     "execution_count": 2,
     "metadata": {},
     "output_type": "execute_result"
    }
   ],
   "source": [
    "landslides.head()"
   ]
  },
  {
   "cell_type": "markdown",
   "id": "ea4d878d",
   "metadata": {},
   "source": [
    "Nous allons travailler avec la colonne \"date\" de la base de données des glissements de terrain."
   ]
  },
  {
   "cell_type": "code",
   "execution_count": 3,
   "id": "d77c20f6",
   "metadata": {},
   "outputs": [
    {
     "name": "stdout",
     "output_type": "stream",
     "text": [
      "0     3/2/07\n",
      "1    3/22/07\n",
      "2     4/6/07\n",
      "3    4/14/07\n",
      "4    4/15/07\n",
      "Name: date, dtype: object\n"
     ]
    }
   ],
   "source": [
    "# print the first few rows of the date column\n",
    "print(landslides['date'].head())"
   ]
  },
  {
   "cell_type": "markdown",
   "id": "b1bed5d0",
   "metadata": {},
   "source": [
    "Oui, ce sont des dates ! Mais ce n'est pas parce que moi, un humain, que ce sont des dates, que Python sait que ce sont des dates. Notez qu'au bas de la sortie de head(), vous pouvez voir qu'il est indiqué que le type de données de cette colonne est \"object\".\n",
    "\n",
    "    Pandas utilise le dtype \"object\" pour stocker divers types de données, mais le plus souvent, lorsque vous voyez une colonne avec le dtype \"object\", elle contient des chaînes de caractères.\n",
    "\n",
    "Si vous consultez la documentation de dtype du pandas, vous remarquerez qu'il existe également un dtype datetime64 spécifique. Parce que le dtype de notre colonne est object plutôt que datetime64, nous pouvons dire que Python ne sait pas que cette colonne contient des dates.\n",
    "\n",
    "Nous pouvons également regarder uniquement le dtype d'une colonne sans imprimer les premières lignes :"
   ]
  },
  {
   "cell_type": "code",
   "execution_count": 4,
   "id": "993c7949",
   "metadata": {},
   "outputs": [
    {
     "data": {
      "text/plain": [
       "dtype('O')"
      ]
     },
     "execution_count": 4,
     "metadata": {},
     "output_type": "execute_result"
    }
   ],
   "source": [
    "# check the data type of our date column\n",
    "landslides['date'].dtype"
   ]
  },
  {
   "cell_type": "markdown",
   "id": "c1049845",
   "metadata": {},
   "source": [
    "Vous devrez peut-être vérifier la documentation numpy pour faire correspondre le code de la lettre au type de l'objet. \"O\" est le code pour \"object\", donc nous pouvons voir que ces deux méthodes nous donnent les mêmes informations."
   ]
  },
  {
   "cell_type": "markdown",
   "id": "b102af10",
   "metadata": {},
   "source": [
    "**Convertir nos colonnes de date en datetime**\n",
    "\n",
    "Maintenant que nous savons que notre colonne de date n'est pas reconnue comme une date, il est temps de la convertir pour qu'elle soit reconnue comme une date. C'est ce qu'on appelle le « parsing des dates » parce que nous prenons une chaîne et identifions ses composants.\n",
    "\n",
    "Nous pouvons pandas quel est le format de nos dates avec un guide appelé \"directive strftime\", sur lequel vous pouvez trouver plus d'informations sur ce lien. L'idée de base est que vous devez indiquer où se trouvent les parties de la date et quelle ponctuation se trouve entre elles. Il existe de nombreuses parties possibles d'une date, mais les plus courantes sont %d pour le jour, %m pour le mois, %y pour une année à deux chiffres et %Y pour une année à quatre chiffres.\n",
    "\n",
    "Quelques exemples:\n",
    "\n",
    "    1/17/07 a le format \"%m/%d/%y\"\n",
    "    17-1-2007 a le format \"%d-%m-%Y\"\n",
    "\n",
    "En remontant l'en-tête de la colonne \"date\" dans le jeu de données sur les glissements de terrain, nous pouvons voir qu'elle est au format \"mois/jour/année à deux chiffres\", nous pouvons donc utiliser la même syntaxe que le premier exemple pour analyser nos dates :"
   ]
  },
  {
   "cell_type": "code",
   "execution_count": 5,
   "id": "c518c93a",
   "metadata": {},
   "outputs": [],
   "source": [
    "# create a new column, date_parsed, with the parsed dates\n",
    "landslides['date_parsed'] = pd.to_datetime(landslides['date'], format=\"%m/%d/%y\")"
   ]
  },
  {
   "cell_type": "markdown",
   "id": "b1c683be",
   "metadata": {},
   "source": [
    "Maintenant, lorsque je vérifie les premières lignes de la nouvelle colonne, je peux voir que le dtype est datetime64. Je peux également voir que mes dates ont été légèrement réorganisées afin qu'elles correspondent aux objets datetime de la commande par défaut (année-mois-jour)."
   ]
  },
  {
   "cell_type": "code",
   "execution_count": 6,
   "id": "0830fb78",
   "metadata": {},
   "outputs": [
    {
     "data": {
      "text/plain": [
       "0   2007-03-02\n",
       "1   2007-03-22\n",
       "2   2007-04-06\n",
       "3   2007-04-14\n",
       "4   2007-04-15\n",
       "Name: date_parsed, dtype: datetime64[ns]"
      ]
     },
     "execution_count": 6,
     "metadata": {},
     "output_type": "execute_result"
    }
   ],
   "source": [
    "# print the first few rows\n",
    "landslides['date_parsed'].head()"
   ]
  },
  {
   "cell_type": "markdown",
   "id": "86461fdd",
   "metadata": {},
   "source": [
    "Maintenant que nos dates sont correctement analysées, nous pouvons interagir avec elles de manière utile.\n",
    "\n",
    "Select the day of the month\n",
    "\n",
    "Now that we have a column of parsed dates, we can extract information like the day of the month that a landslide occurred."
   ]
  },
  {
   "cell_type": "code",
   "execution_count": 7,
   "id": "dc867623",
   "metadata": {},
   "outputs": [
    {
     "data": {
      "text/plain": [
       "0     2.0\n",
       "1    22.0\n",
       "2     6.0\n",
       "3    14.0\n",
       "4    15.0\n",
       "Name: date_parsed, dtype: float64"
      ]
     },
     "execution_count": 7,
     "metadata": {},
     "output_type": "execute_result"
    }
   ],
   "source": [
    "# get the day of the month from the date_parsed column\n",
    "day_of_month_landslides = landslides['date_parsed'].dt.day\n",
    "day_of_month_landslides.head()"
   ]
  },
  {
   "cell_type": "markdown",
   "id": "3848ae29",
   "metadata": {},
   "source": [
    "Si nous essayions d'obtenir les mêmes informations de la colonne \"date\" d'origine, nous obtiendrions une erreur : AttributeError : Can only use .dt accessor with datetimelike values. C'est parce que dt.day ne sait pas comment traiter une colonne avec le dtype \"object\". Même si notre dataframe contient des dates, nous devons les analyser avant de pouvoir interagir avec elles de manière utile.\n",
    "Tracer le jour du mois pour vérifier l'analyse de la date\n",
    "\n",
    "L'un des plus grands dangers de l'analyse des dates est de mélanger les mois et les jours. La fonction to_datetime() a des messages d'erreur très utiles, mais cela ne fait pas de mal de vérifier que les jours du mois que nous avons extraits ont un sens.\n",
    "\n",
    "Pour ce faire, traçons un histogramme des jours du mois. Nous nous attendons à ce qu'il ait des valeurs comprises entre 1 et 31 et, puisqu'il n'y a aucune raison de supposer que les glissements de terrain sont plus fréquents certains jours du mois que d'autres, une distribution relativement uniforme. (Avec un creux sur 31 car tous les mois n'ont pas 31 jours.) Voyons si c'est le cas :"
   ]
  },
  {
   "cell_type": "code",
   "execution_count": 8,
   "id": "a696b957",
   "metadata": {},
   "outputs": [
    {
     "name": "stderr",
     "output_type": "stream",
     "text": [
      "C:\\Users\\GHESMOMO\\Anaconda3\\lib\\site-packages\\seaborn\\distributions.py:2551: FutureWarning: `distplot` is a deprecated function and will be removed in a future version. Please adapt your code to use either `displot` (a figure-level function with similar flexibility) or `histplot` (an axes-level function for histograms).\n",
      "  warnings.warn(msg, FutureWarning)\n"
     ]
    },
    {
     "data": {
      "text/plain": [
       "<AxesSubplot:xlabel='date_parsed'>"
      ]
     },
     "execution_count": 8,
     "metadata": {},
     "output_type": "execute_result"
    },
    {
     "data": {
      "image/png": "[encoded data removed]",
      "text/plain": [
       "<Figure size 432x288 with 1 Axes>"
      ]
     },
     "metadata": {
      "needs_background": "light"
     },
     "output_type": "display_data"
    }
   ],
   "source": [
    "# remove na's\n",
    "day_of_month_landslides = day_of_month_landslides.dropna()\n",
    "\n",
    "# plot the day of the month\n",
    "sns.distplot(day_of_month_landslides, kde=False, bins=31)"
   ]
  },
  {
   "cell_type": "markdown",
   "id": "730b2703",
   "metadata": {},
   "source": [
    "## 2. Exercice"
   ]
  },
  {
   "cell_type": "markdown",
   "id": "c6f5543e",
   "metadata": {},
   "source": [
    "Nous allons travailler avec un ensemble de données contenant des informations sur les tremblements de terre qui se sont produits entre 1965 et 2016."
   ]
  },
  {
   "cell_type": "code",
   "execution_count": null,
   "id": "4fdb8e01",
   "metadata": {},
   "outputs": [],
   "source": [
    "# modules we'll use\n",
    "import pandas as pd\n",
    "import numpy as np\n",
    "import seaborn as sns\n",
    "import datetime\n",
    "\n",
    "# read in our data\n",
    "earthquakes = pd.read_csv(\"../Data/data1/database.csv\")\n",
    "\n",
    "# set seed for reproducibility\n",
    "np.random.seed(0)"
   ]
  },
  {
   "cell_type": "markdown",
   "id": "dfbfc72c",
   "metadata": {},
   "source": [
    "Vérifiez le type de données de notre colonne de date\n",
    "\n",
    "Vous travaillerez avec la colonne \"Date\" de la base de données des tremblements de terre. Enquêtez maintenant sur cette colonne : semble-t-elle contenir des dates ? Quel est le type de la colonne ?"
   ]
  },
  {
   "cell_type": "code",
   "execution_count": null,
   "id": "0d6abf04",
   "metadata": {},
   "outputs": [],
   "source": [
    "# TODO:"
   ]
  },
  {
   "cell_type": "markdown",
   "id": "d558dbce",
   "metadata": {},
   "source": [
    "Convertir nos colonnes de date en datetime\n",
    "\n",
    "La plupart des entrées de la colonne \"Date\" suivent le même format : \"mois/jour/année à quatre chiffres\". Cependant, l'entrée à l'indice 3378 suit un schéma complètement différent. Exécutez la cellule de code ci-dessous pour voir cela."
   ]
  },
  {
   "cell_type": "code",
   "execution_count": null,
   "id": "1ada0ec1",
   "metadata": {},
   "outputs": [],
   "source": [
    "earthquakes[3378:3383]"
   ]
  },
  {
   "cell_type": "markdown",
   "id": "346f7e3a",
   "metadata": {},
   "source": [
    "Cela semble être un problème avec la saisie des données : idéalement, toutes les entrées de la colonne ont le même format. Nous pouvons avoir une idée de l'ampleur de ce problème en vérifiant la longueur de chaque entrée dans la colonne \"Date\"."
   ]
  },
  {
   "cell_type": "code",
   "execution_count": null,
   "id": "e9b8f837",
   "metadata": {},
   "outputs": [],
   "source": [
    "date_lengths = earthquakes.Date.str.len()\n",
    "date_lengths.value_counts()"
   ]
  },
  {
   "cell_type": "markdown",
   "id": "a77fb560",
   "metadata": {},
   "source": [
    "On dirait qu'il y a deux autres lignes qui ont une date dans un format différent. Exécutez la cellule de code ci-dessous pour obtenir les indices correspondant à ces lignes et imprimez les données."
   ]
  },
  {
   "cell_type": "code",
   "execution_count": null,
   "id": "ba34e80e",
   "metadata": {},
   "outputs": [],
   "source": [
    "indices = np.where([date_lengths == 24])[1]\n",
    "print('Indices with corrupted data:', indices)\n",
    "earthquakes.loc[indices]"
   ]
  },
  {
   "cell_type": "markdown",
   "id": "c22736cb",
   "metadata": {},
   "source": [
    "Compte tenu de toutes ces informations, c'est à votre tour de créer une nouvelle colonne \"date_parsed\" dans l'ensemble de données sur les tremblements de terre qui contient des dates correctement analysées.\n",
    "\n",
    "Remarque : Lorsque vous complétez ce problème, vous êtes autorisé (mais pas obligé) à modifier les entrées dans les colonnes « Date » et « Time ». Ne supprimez aucune ligne de l'ensemble de données."
   ]
  },
  {
   "cell_type": "code",
   "execution_count": null,
   "id": "f7e0751b",
   "metadata": {},
   "outputs": [],
   "source": [
    "#TODO:"
   ]
  },
  {
   "cell_type": "markdown",
   "id": "ab22dacc",
   "metadata": {},
   "source": [
    "Sélectionnez le jour du mois\n",
    "\n",
    "Créez un tremblement de terre day_of_month de la série Pandas contenant le jour du mois de la colonne \"date_parse\"."
   ]
  },
  {
   "cell_type": "code",
   "execution_count": null,
   "id": "c67f3e50",
   "metadata": {},
   "outputs": [],
   "source": [
    "# try to get the day of the month from the date column\n",
    "day_of_month_earthquakes = ____"
   ]
  },
  {
   "cell_type": "markdown",
   "id": "e642dd8d",
   "metadata": {},
   "source": [
    "Tracer le jour du mois pour vérifier l'analyse de la date\n",
    "\n",
    "Tracez les jours du mois à partir de votre jeu de données sur les tremblements de terre."
   ]
  },
  {
   "cell_type": "code",
   "execution_count": null,
   "id": "2e5f86c0",
   "metadata": {},
   "outputs": [],
   "source": [
    "#TODO:"
   ]
  },
  {
   "cell_type": "code",
   "execution_count": null,
   "id": "9f336a31",
   "metadata": {},
   "outputs": [],
   "source": []
  }
 ],
 "metadata": {
  "kernelspec": {
   "display_name": "Python 3",
   "language": "python",
   "name": "python3"
  },
  "language_info": {
   "codemirror_mode": {
    "name": "ipython",
    "version": 3
   },
   "file_extension": ".py",
   "mimetype": "text/x-python",
   "name": "python",
   "nbconvert_exporter": "python",
   "pygments_lexer": "ipython3",
   "version": "3.8.5"
  }
 },
 "nbformat": 4,
 "nbformat_minor": 5
}
