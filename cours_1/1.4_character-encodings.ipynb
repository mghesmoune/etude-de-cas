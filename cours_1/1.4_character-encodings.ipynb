{
 "cells": [
  {
   "cell_type": "markdown",
   "id": "aac10457",
   "metadata": {
    "papermill": {
     "duration": 0.019761,
     "end_time": "2021-09-13T20:11:49.473333",
     "exception": false,
     "start_time": "2021-09-13T20:11:49.453572",
     "status": "completed"
    },
    "tags": []
   },
   "source": [
    "# Character encodings\n",
    "## 1. Tutoriel"
   ]
  },
  {
   "cell_type": "code",
   "execution_count": 1,
   "id": "0733f85d",
   "metadata": {
    "execution": {
     "iopub.execute_input": "2021-09-13T20:11:49.515062Z",
     "iopub.status.busy": "2021-09-13T20:11:49.513446Z",
     "iopub.status.idle": "2021-09-13T20:11:49.523911Z",
     "shell.execute_reply": "2021-09-13T20:11:49.524496Z"
    },
    "papermill": {
     "duration": 0.031725,
     "end_time": "2021-09-13T20:11:49.524780",
     "exception": false,
     "start_time": "2021-09-13T20:11:49.493055",
     "status": "completed"
    },
    "tags": []
   },
   "outputs": [],
   "source": [
    "# modules we'll use\n",
    "import pandas as pd\n",
    "import numpy as np\n",
    "\n",
    "# helpful character encoding module\n",
    "import chardet\n",
    "\n",
    "# set seed for reproducibility\n",
    "np.random.seed(0)"
   ]
  },
  {
   "cell_type": "markdown",
   "id": "643c7908",
   "metadata": {
    "papermill": {
     "duration": 0.015374,
     "end_time": "2021-09-13T20:11:49.555643",
     "exception": false,
     "start_time": "2021-09-13T20:11:49.540269",
     "status": "completed"
    },
    "tags": []
   },
   "source": [
    "### Qu'est-ce que l'encodage ?\n",
    "\n",
    "**L'encodage de caractères** est un ensemble de règles spécifiques pour le mappage de chaînes d'octets binaires brutes (qui ressemblent à ceci : 0110100001101001) en caractères qui composent un texte lisible par l'homme (comme « bonjour »). Il existe de nombreux encodages différents, et si vous essayez de lire un texte avec un encodage différent de celui dans lequel il a été écrit à l'origine, vous vous retrouvez avec un texte brouillé appelé \"mojibake\" (dit comme mo-gee-bah-kay). Voici un exemple de mojibake :\n",
    "æ–‡å—åŒ–ã??\n",
    "\n",
    "Vous pourriez également vous retrouver avec des caractères « inconnus ». Il y a ce qui est imprimé lorsqu'il n'y a pas de mappage entre un octet particulier et un caractère dans l'encodage que vous utilisez pour lire votre chaîne d'octets et ils ressemblent à ceci :\n",
    "����������\n",
    "\n",
    "Les incompatibilités d'encodage de caractères sont moins courantes aujourd'hui qu'auparavant, mais c'est certainement toujours un problème. Il existe de nombreux encodages de caractères différents, mais le principal que vous devez connaître est UTF-8.\n",
    "\n",
    "> UTF-8 is **the** standard text encoding. All Python code is in UTF-8 and, ideally, all your data should be as well. It's when things aren't in UTF-8 that you run into trouble.\n",
    "\n",
    "Il était assez difficile de gérer les encodages en Python 2, mais heureusement, en Python 3, c'est beaucoup plus simple. Vous rencontrerez deux types de données principaux lorsque vous travaillerez avec du texte dans Python 3. L'un est la chaîne, qui est le texte par défaut."
   ]
  },
  {
   "cell_type": "code",
   "execution_count": 2,
   "id": "da3dc9d8",
   "metadata": {
    "execution": {
     "iopub.execute_input": "2021-09-13T20:11:49.587826Z",
     "iopub.status.busy": "2021-09-13T20:11:49.587202Z",
     "iopub.status.idle": "2021-09-13T20:11:49.593409Z",
     "shell.execute_reply": "2021-09-13T20:11:49.593970Z"
    },
    "papermill": {
     "duration": 0.023815,
     "end_time": "2021-09-13T20:11:49.594147",
     "exception": false,
     "start_time": "2021-09-13T20:11:49.570332",
     "status": "completed"
    },
    "tags": []
   },
   "outputs": [
    {
     "data": {
      "text/plain": [
       "str"
      ]
     },
     "execution_count": 2,
     "metadata": {},
     "output_type": "execute_result"
    }
   ],
   "source": [
    "# start with a string\n",
    "before = \"This is the euro symbol: €\"\n",
    "\n",
    "# check to see what datatype it is\n",
    "type(before)"
   ]
  },
  {
   "cell_type": "markdown",
   "id": "85c9551e",
   "metadata": {
    "papermill": {
     "duration": 0.014678,
     "end_time": "2021-09-13T20:11:49.624044",
     "exception": false,
     "start_time": "2021-09-13T20:11:49.609366",
     "status": "completed"
    },
    "tags": []
   },
   "source": [
    "Les autres données sont le type de données [bytes](https://docs.python.org/3.1/library/functions.html#bytes), qui est une séquence d'entiers. Vous pouvez convertir une chaîne en octets en spécifiant dans quel encodage elle se trouve :"
   ]
  },
  {
   "cell_type": "code",
   "execution_count": 3,
   "id": "2169cc1a",
   "metadata": {
    "execution": {
     "iopub.execute_input": "2021-09-13T20:11:49.663922Z",
     "iopub.status.busy": "2021-09-13T20:11:49.662859Z",
     "iopub.status.idle": "2021-09-13T20:11:49.666991Z",
     "shell.execute_reply": "2021-09-13T20:11:49.666437Z"
    },
    "papermill": {
     "duration": 0.027671,
     "end_time": "2021-09-13T20:11:49.667162",
     "exception": false,
     "start_time": "2021-09-13T20:11:49.639491",
     "status": "completed"
    },
    "tags": []
   },
   "outputs": [
    {
     "data": {
      "text/plain": [
       "bytes"
      ]
     },
     "execution_count": 3,
     "metadata": {},
     "output_type": "execute_result"
    }
   ],
   "source": [
    "# encode it to a different encoding, replacing characters that raise errors\n",
    "after = before.encode(\"utf-8\", errors=\"replace\")\n",
    "\n",
    "# check the type\n",
    "type(after)"
   ]
  },
  {
   "cell_type": "markdown",
   "id": "ecfde986",
   "metadata": {
    "papermill": {
     "duration": 0.019752,
     "end_time": "2021-09-13T20:11:49.706810",
     "exception": false,
     "start_time": "2021-09-13T20:11:49.687058",
     "status": "completed"
    },
    "tags": []
   },
   "source": [
    "Si vous regardez un objet bytes, vous verrez qu'il a un b devant lui, puis peut-être du texte après. C'est parce que les octets sont imprimés comme s'il s'agissait de caractères codés en ASCII. (ASCII est un ancien codage de caractères qui ne fonctionne pas vraiment pour écrire une langue autre que l'anglais.) Ici, vous pouvez voir que notre symbole de l'euro a été remplacé par un mojibake qui ressemble à \"\\xe2\\x82\\xac\" lorsqu'il est imprimé comme s'il s'agissait d'une chaîne ASCII."
   ]
  },
  {
   "cell_type": "code",
   "execution_count": 4,
   "id": "ec1d1a0d",
   "metadata": {
    "execution": {
     "iopub.execute_input": "2021-09-13T20:11:49.745829Z",
     "iopub.status.busy": "2021-09-13T20:11:49.744945Z",
     "iopub.status.idle": "2021-09-13T20:11:49.748169Z",
     "shell.execute_reply": "2021-09-13T20:11:49.748650Z"
    },
    "papermill": {
     "duration": 0.026098,
     "end_time": "2021-09-13T20:11:49.748806",
     "exception": false,
     "start_time": "2021-09-13T20:11:49.722708",
     "status": "completed"
    },
    "tags": []
   },
   "outputs": [
    {
     "data": {
      "text/plain": [
       "b'This is the euro symbol: \\xe2\\x82\\xac'"
      ]
     },
     "execution_count": 4,
     "metadata": {},
     "output_type": "execute_result"
    }
   ],
   "source": [
    "# take a look at what the bytes look like\n",
    "after"
   ]
  },
  {
   "cell_type": "markdown",
   "id": "138170d9",
   "metadata": {
    "papermill": {
     "duration": 0.015379,
     "end_time": "2021-09-13T20:11:49.780889",
     "exception": false,
     "start_time": "2021-09-13T20:11:49.765510",
     "status": "completed"
    },
    "tags": []
   },
   "source": [
    "Lorsque nous reconvertissons nos octets en une chaîne avec l'encodage correct, nous pouvons voir que notre texte est bien là, ce qui est génial ! :)"
   ]
  },
  {
   "cell_type": "code",
   "execution_count": 5,
   "id": "008c69a1",
   "metadata": {
    "execution": {
     "iopub.execute_input": "2021-09-13T20:11:49.816245Z",
     "iopub.status.busy": "2021-09-13T20:11:49.815281Z",
     "iopub.status.idle": "2021-09-13T20:11:49.820829Z",
     "shell.execute_reply": "2021-09-13T20:11:49.820323Z"
    },
    "papermill": {
     "duration": 0.024115,
     "end_time": "2021-09-13T20:11:49.820960",
     "exception": false,
     "start_time": "2021-09-13T20:11:49.796845",
     "status": "completed"
    },
    "tags": []
   },
   "outputs": [
    {
     "name": "stdout",
     "output_type": "stream",
     "text": [
      "This is the euro symbol: €\n"
     ]
    }
   ],
   "source": [
    "# convert it back to utf-8\n",
    "print(after.decode(\"utf-8\"))"
   ]
  },
  {
   "cell_type": "markdown",
   "id": "429e2163",
   "metadata": {
    "papermill": {
     "duration": 0.016474,
     "end_time": "2021-09-13T20:11:49.853757",
     "exception": false,
     "start_time": "2021-09-13T20:11:49.837283",
     "status": "completed"
    },
    "tags": []
   },
   "source": [
    "Cependant, lorsque nous essayons d'utiliser un encodage différent pour mapper nos octets dans une chaîne, nous obtenons une erreur. C'est parce que l'encodage que nous essayons d'utiliser ne sait pas quoi faire avec les octets que nous essayons de lui transmettre. Vous devez indiquer à Python l'encodage dans lequel la chaîne d'octets est réellement censée se trouver.\n",
    "\n",
    "> Vous pouvez considérer différents encodages comme différentes manières d'enregistrer de la musique. Vous pouvez enregistrer la même musique sur un CD, une cassette ou 8 pistes. Bien que la musique puisse sembler plus ou moins la même, vous devez utiliser le bon équipement pour lire la musique à partir de chaque format d'enregistrement. Le bon décodeur est comme un lecteur de cassettes ou un lecteur de CD. Si vous essayez de lire une cassette dans un lecteur de CD, cela ne fonctionnera tout simplement pas."
   ]
  },
  {
   "cell_type": "code",
   "execution_count": 6,
   "id": "ef30485b",
   "metadata": {
    "execution": {
     "iopub.execute_input": "2021-09-13T20:11:49.890512Z",
     "iopub.status.busy": "2021-09-13T20:11:49.889893Z",
     "iopub.status.idle": "2021-09-13T20:11:49.952573Z",
     "shell.execute_reply": "2021-09-13T20:11:49.951889Z"
    },
    "papermill": {
     "duration": 0.082512,
     "end_time": "2021-09-13T20:11:49.952718",
     "exception": false,
     "start_time": "2021-09-13T20:11:49.870206",
     "status": "completed"
    },
    "tags": []
   },
   "outputs": [
    {
     "ename": "UnicodeDecodeError",
     "evalue": "'ascii' codec can't decode byte 0xe2 in position 25: ordinal not in range(128)",
     "output_type": "error",
     "traceback": [
      "\u001b[1;31m---------------------------------------------------------------------------\u001b[0m",
      "\u001b[1;31mUnicodeDecodeError\u001b[0m                        Traceback (most recent call last)",
      "\u001b[1;32m<ipython-input-6-50fd8662e3ae>\u001b[0m in \u001b[0;36m<module>\u001b[1;34m\u001b[0m\n\u001b[0;32m      1\u001b[0m \u001b[1;31m# try to decode our bytes with the ascii encoding\u001b[0m\u001b[1;33m\u001b[0m\u001b[1;33m\u001b[0m\u001b[1;33m\u001b[0m\u001b[0m\n\u001b[1;32m----> 2\u001b[1;33m \u001b[0mprint\u001b[0m\u001b[1;33m(\u001b[0m\u001b[0mafter\u001b[0m\u001b[1;33m.\u001b[0m\u001b[0mdecode\u001b[0m\u001b[1;33m(\u001b[0m\u001b[1;34m\"ascii\"\u001b[0m\u001b[1;33m)\u001b[0m\u001b[1;33m)\u001b[0m\u001b[1;33m\u001b[0m\u001b[1;33m\u001b[0m\u001b[0m\n\u001b[0m",
      "\u001b[1;31mUnicodeDecodeError\u001b[0m: 'ascii' codec can't decode byte 0xe2 in position 25: ordinal not in range(128)"
     ]
    }
   ],
   "source": [
    "# try to decode our bytes with the ascii encoding\n",
    "print(after.decode(\"ascii\"))"
   ]
  },
  {
   "cell_type": "markdown",
   "id": "34f4ecd4",
   "metadata": {
    "papermill": {
     "duration": 0.016775,
     "end_time": "2021-09-13T20:11:49.986473",
     "exception": false,
     "start_time": "2021-09-13T20:11:49.969698",
     "status": "completed"
    },
    "tags": []
   },
   "source": [
    "Nous pouvons également rencontrer des problèmes si nous essayons d'utiliser le mauvais encodage pour mapper une chaîne en octets. Comme je l'ai dit plus tôt, les chaînes sont UTF-8 par défaut dans Python 3, donc si nous essayons de les traiter comme si elles étaient dans un autre encodage, nous créerons des problèmes.\n",
    "\n",
    "Par exemple, si nous essayons de convertir une chaîne en octets pour l'ASCII en utilisant `encode()`, nous pouvons demander que les octets soient ce qu'ils seraient si le texte était en ASCII. Comme notre texte n'est pas en ASCII, il y aura cependant certains caractères qu'il ne pourra pas gérer. Nous pouvons remplacer automatiquement les caractères que l'ASCII ne peut pas gérer. Si nous faisons cela, cependant, tous les caractères qui ne sont pas en ASCII seront simplement remplacés par le caractère inconnu. Ensuite, lorsque nous reconvertirons les octets en chaîne, le caractère sera remplacé par le caractère inconnu. La partie dangereuse à ce sujet est qu'il n'y a aucun moyen de dire quel personnage cela aurait dû être. Cela signifie que nous venons peut-être de rendre nos données inutilisables !"
   ]
  },
  {
   "cell_type": "code",
   "execution_count": 7,
   "id": "703d2e02",
   "metadata": {
    "execution": {
     "iopub.execute_input": "2021-09-13T20:11:50.025858Z",
     "iopub.status.busy": "2021-09-13T20:11:50.025216Z",
     "iopub.status.idle": "2021-09-13T20:11:50.027829Z",
     "shell.execute_reply": "2021-09-13T20:11:50.028379Z"
    },
    "papermill": {
     "duration": 0.025369,
     "end_time": "2021-09-13T20:11:50.028560",
     "exception": false,
     "start_time": "2021-09-13T20:11:50.003191",
     "status": "completed"
    },
    "tags": []
   },
   "outputs": [
    {
     "name": "stdout",
     "output_type": "stream",
     "text": [
      "This is the euro symbol: ?\n"
     ]
    }
   ],
   "source": [
    "# start with a string\n",
    "before = \"This is the euro symbol: €\"\n",
    "\n",
    "# encode it to a different encoding, replacing characters that raise errors\n",
    "after = before.encode(\"ascii\", errors = \"replace\")\n",
    "\n",
    "# convert it back to utf-8\n",
    "print(after.decode(\"ascii\"))\n",
    "\n",
    "# We've lost the original underlying byte string! It's been \n",
    "# replaced with the underlying byte string for the unknown character :("
   ]
  },
  {
   "cell_type": "markdown",
   "id": "1d915304",
   "metadata": {
    "papermill": {
     "duration": 0.017429,
     "end_time": "2021-09-13T20:11:50.063375",
     "exception": false,
     "start_time": "2021-09-13T20:11:50.045946",
     "status": "completed"
    },
    "tags": []
   },
   "source": [
    "C'est mauvais et nous voulons éviter de le faire ! Il est de loin préférable de convertir tout notre texte en UTF-8 dès que possible et de le conserver dans cet encodage. Le meilleur moment pour convertir une entrée non UTF-8 en UTF-8 est lorsque vous lisez des fichiers, dont nous parlerons ensuite.\n",
    "\n",
    "### Lecture de fichiers avec des problèmes d'encodage\n",
    "\n",
    "La plupart des fichiers que vous rencontrerez seront probablement encodés en UTF-8. C'est ce que Python attend par défaut, donc la plupart du temps, vous ne rencontrerez pas de problèmes. Cependant, vous obtiendrez parfois une erreur comme celle-ci :"
   ]
  },
  {
   "cell_type": "code",
   "execution_count": 8,
   "id": "92f07d34",
   "metadata": {
    "execution": {
     "iopub.execute_input": "2021-09-13T20:11:50.102095Z",
     "iopub.status.busy": "2021-09-13T20:11:50.101378Z",
     "iopub.status.idle": "2021-09-13T20:11:50.176265Z",
     "shell.execute_reply": "2021-09-13T20:11:50.176900Z"
    },
    "papermill": {
     "duration": 0.095923,
     "end_time": "2021-09-13T20:11:50.177106",
     "exception": false,
     "start_time": "2021-09-13T20:11:50.081183",
     "status": "completed"
    },
    "scrolled": true,
    "tags": []
   },
   "outputs": [
    {
     "ename": "UnicodeDecodeError",
     "evalue": "'utf-8' codec can't decode byte 0x99 in position 11: invalid start byte",
     "output_type": "error",
     "traceback": [
      "\u001b[1;31m---------------------------------------------------------------------------\u001b[0m",
      "\u001b[1;31mUnicodeDecodeError\u001b[0m                        Traceback (most recent call last)",
      "\u001b[1;32mpandas\\_libs\\parsers.pyx\u001b[0m in \u001b[0;36mpandas._libs.parsers.TextReader._convert_tokens\u001b[1;34m()\u001b[0m\n",
      "\u001b[1;32mpandas\\_libs\\parsers.pyx\u001b[0m in \u001b[0;36mpandas._libs.parsers.TextReader._convert_with_dtype\u001b[1;34m()\u001b[0m\n",
      "\u001b[1;32mpandas\\_libs\\parsers.pyx\u001b[0m in \u001b[0;36mpandas._libs.parsers.TextReader._string_convert\u001b[1;34m()\u001b[0m\n",
      "\u001b[1;32mpandas\\_libs\\parsers.pyx\u001b[0m in \u001b[0;36mpandas._libs.parsers._string_box_utf8\u001b[1;34m()\u001b[0m\n",
      "\u001b[1;31mUnicodeDecodeError\u001b[0m: 'utf-8' codec can't decode byte 0x99 in position 11: invalid start byte",
      "\nDuring handling of the above exception, another exception occurred:\n",
      "\u001b[1;31mUnicodeDecodeError\u001b[0m                        Traceback (most recent call last)",
      "\u001b[1;32m<ipython-input-8-13eefed61743>\u001b[0m in \u001b[0;36m<module>\u001b[1;34m\u001b[0m\n\u001b[0;32m      1\u001b[0m \u001b[1;31m# try to read in a file not in UTF-8\u001b[0m\u001b[1;33m\u001b[0m\u001b[1;33m\u001b[0m\u001b[1;33m\u001b[0m\u001b[0m\n\u001b[1;32m----> 2\u001b[1;33m \u001b[0mkickstarter_2016\u001b[0m \u001b[1;33m=\u001b[0m \u001b[0mpd\u001b[0m\u001b[1;33m.\u001b[0m\u001b[0mread_csv\u001b[0m\u001b[1;33m(\u001b[0m\u001b[1;34m\"../Data/data1/ks-projects-201612.csv\"\u001b[0m\u001b[1;33m)\u001b[0m\u001b[1;33m\u001b[0m\u001b[1;33m\u001b[0m\u001b[0m\n\u001b[0m",
      "\u001b[1;32m~\\AppData\\Roaming\\Python\\Python38\\site-packages\\pandas\\io\\parsers.py\u001b[0m in \u001b[0;36mread_csv\u001b[1;34m(filepath_or_buffer, sep, delimiter, header, names, index_col, usecols, squeeze, prefix, mangle_dupe_cols, dtype, engine, converters, true_values, false_values, skipinitialspace, skiprows, skipfooter, nrows, na_values, keep_default_na, na_filter, verbose, skip_blank_lines, parse_dates, infer_datetime_format, keep_date_col, date_parser, dayfirst, cache_dates, iterator, chunksize, compression, thousands, decimal, lineterminator, quotechar, quoting, doublequote, escapechar, comment, encoding, dialect, error_bad_lines, warn_bad_lines, delim_whitespace, low_memory, memory_map, float_precision)\u001b[0m\n\u001b[0;32m    686\u001b[0m     )\n\u001b[0;32m    687\u001b[0m \u001b[1;33m\u001b[0m\u001b[0m\n\u001b[1;32m--> 688\u001b[1;33m     \u001b[1;32mreturn\u001b[0m \u001b[0m_read\u001b[0m\u001b[1;33m(\u001b[0m\u001b[0mfilepath_or_buffer\u001b[0m\u001b[1;33m,\u001b[0m \u001b[0mkwds\u001b[0m\u001b[1;33m)\u001b[0m\u001b[1;33m\u001b[0m\u001b[1;33m\u001b[0m\u001b[0m\n\u001b[0m\u001b[0;32m    689\u001b[0m \u001b[1;33m\u001b[0m\u001b[0m\n\u001b[0;32m    690\u001b[0m \u001b[1;33m\u001b[0m\u001b[0m\n",
      "\u001b[1;32m~\\AppData\\Roaming\\Python\\Python38\\site-packages\\pandas\\io\\parsers.py\u001b[0m in \u001b[0;36m_read\u001b[1;34m(filepath_or_buffer, kwds)\u001b[0m\n\u001b[0;32m    458\u001b[0m \u001b[1;33m\u001b[0m\u001b[0m\n\u001b[0;32m    459\u001b[0m     \u001b[1;32mtry\u001b[0m\u001b[1;33m:\u001b[0m\u001b[1;33m\u001b[0m\u001b[1;33m\u001b[0m\u001b[0m\n\u001b[1;32m--> 460\u001b[1;33m         \u001b[0mdata\u001b[0m \u001b[1;33m=\u001b[0m \u001b[0mparser\u001b[0m\u001b[1;33m.\u001b[0m\u001b[0mread\u001b[0m\u001b[1;33m(\u001b[0m\u001b[0mnrows\u001b[0m\u001b[1;33m)\u001b[0m\u001b[1;33m\u001b[0m\u001b[1;33m\u001b[0m\u001b[0m\n\u001b[0m\u001b[0;32m    461\u001b[0m     \u001b[1;32mfinally\u001b[0m\u001b[1;33m:\u001b[0m\u001b[1;33m\u001b[0m\u001b[1;33m\u001b[0m\u001b[0m\n\u001b[0;32m    462\u001b[0m         \u001b[0mparser\u001b[0m\u001b[1;33m.\u001b[0m\u001b[0mclose\u001b[0m\u001b[1;33m(\u001b[0m\u001b[1;33m)\u001b[0m\u001b[1;33m\u001b[0m\u001b[1;33m\u001b[0m\u001b[0m\n",
      "\u001b[1;32m~\\AppData\\Roaming\\Python\\Python38\\site-packages\\pandas\\io\\parsers.py\u001b[0m in \u001b[0;36mread\u001b[1;34m(self, nrows)\u001b[0m\n\u001b[0;32m   1196\u001b[0m     \u001b[1;32mdef\u001b[0m \u001b[0mread\u001b[0m\u001b[1;33m(\u001b[0m\u001b[0mself\u001b[0m\u001b[1;33m,\u001b[0m \u001b[0mnrows\u001b[0m\u001b[1;33m=\u001b[0m\u001b[1;32mNone\u001b[0m\u001b[1;33m)\u001b[0m\u001b[1;33m:\u001b[0m\u001b[1;33m\u001b[0m\u001b[1;33m\u001b[0m\u001b[0m\n\u001b[0;32m   1197\u001b[0m         \u001b[0mnrows\u001b[0m \u001b[1;33m=\u001b[0m \u001b[0m_validate_integer\u001b[0m\u001b[1;33m(\u001b[0m\u001b[1;34m\"nrows\"\u001b[0m\u001b[1;33m,\u001b[0m \u001b[0mnrows\u001b[0m\u001b[1;33m)\u001b[0m\u001b[1;33m\u001b[0m\u001b[1;33m\u001b[0m\u001b[0m\n\u001b[1;32m-> 1198\u001b[1;33m         \u001b[0mret\u001b[0m \u001b[1;33m=\u001b[0m \u001b[0mself\u001b[0m\u001b[1;33m.\u001b[0m\u001b[0m_engine\u001b[0m\u001b[1;33m.\u001b[0m\u001b[0mread\u001b[0m\u001b[1;33m(\u001b[0m\u001b[0mnrows\u001b[0m\u001b[1;33m)\u001b[0m\u001b[1;33m\u001b[0m\u001b[1;33m\u001b[0m\u001b[0m\n\u001b[0m\u001b[0;32m   1199\u001b[0m \u001b[1;33m\u001b[0m\u001b[0m\n\u001b[0;32m   1200\u001b[0m         \u001b[1;31m# May alter columns / col_dict\u001b[0m\u001b[1;33m\u001b[0m\u001b[1;33m\u001b[0m\u001b[1;33m\u001b[0m\u001b[0m\n",
      "\u001b[1;32m~\\AppData\\Roaming\\Python\\Python38\\site-packages\\pandas\\io\\parsers.py\u001b[0m in \u001b[0;36mread\u001b[1;34m(self, nrows)\u001b[0m\n\u001b[0;32m   2155\u001b[0m     \u001b[1;32mdef\u001b[0m \u001b[0mread\u001b[0m\u001b[1;33m(\u001b[0m\u001b[0mself\u001b[0m\u001b[1;33m,\u001b[0m \u001b[0mnrows\u001b[0m\u001b[1;33m=\u001b[0m\u001b[1;32mNone\u001b[0m\u001b[1;33m)\u001b[0m\u001b[1;33m:\u001b[0m\u001b[1;33m\u001b[0m\u001b[1;33m\u001b[0m\u001b[0m\n\u001b[0;32m   2156\u001b[0m         \u001b[1;32mtry\u001b[0m\u001b[1;33m:\u001b[0m\u001b[1;33m\u001b[0m\u001b[1;33m\u001b[0m\u001b[0m\n\u001b[1;32m-> 2157\u001b[1;33m             \u001b[0mdata\u001b[0m \u001b[1;33m=\u001b[0m \u001b[0mself\u001b[0m\u001b[1;33m.\u001b[0m\u001b[0m_reader\u001b[0m\u001b[1;33m.\u001b[0m\u001b[0mread\u001b[0m\u001b[1;33m(\u001b[0m\u001b[0mnrows\u001b[0m\u001b[1;33m)\u001b[0m\u001b[1;33m\u001b[0m\u001b[1;33m\u001b[0m\u001b[0m\n\u001b[0m\u001b[0;32m   2158\u001b[0m         \u001b[1;32mexcept\u001b[0m \u001b[0mStopIteration\u001b[0m\u001b[1;33m:\u001b[0m\u001b[1;33m\u001b[0m\u001b[1;33m\u001b[0m\u001b[0m\n\u001b[0;32m   2159\u001b[0m             \u001b[1;32mif\u001b[0m \u001b[0mself\u001b[0m\u001b[1;33m.\u001b[0m\u001b[0m_first_chunk\u001b[0m\u001b[1;33m:\u001b[0m\u001b[1;33m\u001b[0m\u001b[1;33m\u001b[0m\u001b[0m\n",
      "\u001b[1;32mpandas\\_libs\\parsers.pyx\u001b[0m in \u001b[0;36mpandas._libs.parsers.TextReader.read\u001b[1;34m()\u001b[0m\n",
      "\u001b[1;32mpandas\\_libs\\parsers.pyx\u001b[0m in \u001b[0;36mpandas._libs.parsers.TextReader._read_low_memory\u001b[1;34m()\u001b[0m\n",
      "\u001b[1;32mpandas\\_libs\\parsers.pyx\u001b[0m in \u001b[0;36mpandas._libs.parsers.TextReader._read_rows\u001b[1;34m()\u001b[0m\n",
      "\u001b[1;32mpandas\\_libs\\parsers.pyx\u001b[0m in \u001b[0;36mpandas._libs.parsers.TextReader._convert_column_data\u001b[1;34m()\u001b[0m\n",
      "\u001b[1;32mpandas\\_libs\\parsers.pyx\u001b[0m in \u001b[0;36mpandas._libs.parsers.TextReader._convert_tokens\u001b[1;34m()\u001b[0m\n",
      "\u001b[1;32mpandas\\_libs\\parsers.pyx\u001b[0m in \u001b[0;36mpandas._libs.parsers.TextReader._convert_with_dtype\u001b[1;34m()\u001b[0m\n",
      "\u001b[1;32mpandas\\_libs\\parsers.pyx\u001b[0m in \u001b[0;36mpandas._libs.parsers.TextReader._string_convert\u001b[1;34m()\u001b[0m\n",
      "\u001b[1;32mpandas\\_libs\\parsers.pyx\u001b[0m in \u001b[0;36mpandas._libs.parsers._string_box_utf8\u001b[1;34m()\u001b[0m\n",
      "\u001b[1;31mUnicodeDecodeError\u001b[0m: 'utf-8' codec can't decode byte 0x99 in position 11: invalid start byte"
     ]
    }
   ],
   "source": [
    "# try to read in a file not in UTF-8\n",
    "kickstarter_2016 = pd.read_csv(\"../Data/data1/ks-projects-201612.csv\")"
   ]
  },
  {
   "cell_type": "markdown",
   "id": "97fdc002",
   "metadata": {
    "papermill": {
     "duration": 0.019052,
     "end_time": "2021-09-13T20:11:50.214244",
     "exception": false,
     "start_time": "2021-09-13T20:11:50.195192",
     "status": "completed"
    },
    "tags": []
   },
   "source": [
    "Notez que nous obtenons la même `UnicodeDecodeError` que lorsque nous avons essayé de décoder les octets UTF-8 comme s'ils étaient ASCII ! Cela nous indique que ce fichier n'est pas réellement UTF-8. Cependant, nous ne savons pas quel encodage il *est*. Une façon de le comprendre est d'essayer de tester un tas d'encodages de caractères différents et de voir si l'un d'entre eux fonctionne. Une meilleure façon, cependant, est d'utiliser le module chardet pour essayer de deviner automatiquement quel est le bon encodage. Ce n'est pas garanti à 100%, mais c'est généralement plus rapide que d'essayer de deviner.\n",
    "\n",
    "Je vais juste regarder les dix mille premiers octets de ce fichier. C'est généralement suffisant pour une bonne estimation de l'encodage et c'est beaucoup plus rapide que d'essayer de regarder l'ensemble du fichier. (Surtout avec un gros fichier, cela peut être très lent.) Une autre raison de ne regarder que la première partie du fichier est que nous pouvons voir en regardant le message d'erreur que le premier problème est le 11ème caractère. Nous n'avons donc probablement besoin que de regarder la première partie du fichier pour comprendre ce qui se passe."
   ]
  },
  {
   "cell_type": "code",
   "execution_count": 9,
   "id": "c30a37f9",
   "metadata": {
    "execution": {
     "iopub.execute_input": "2021-09-13T20:11:50.254772Z",
     "iopub.status.busy": "2021-09-13T20:11:50.253761Z",
     "iopub.status.idle": "2021-09-13T20:11:50.539562Z",
     "shell.execute_reply": "2021-09-13T20:11:50.538898Z"
    },
    "papermill": {
     "duration": 0.307311,
     "end_time": "2021-09-13T20:11:50.539702",
     "exception": false,
     "start_time": "2021-09-13T20:11:50.232391",
     "status": "completed"
    },
    "tags": []
   },
   "outputs": [
    {
     "name": "stdout",
     "output_type": "stream",
     "text": [
      "{'encoding': 'Windows-1252', 'confidence': 0.73, 'language': ''}\n"
     ]
    }
   ],
   "source": [
    "# look at the first ten thousand bytes to guess the character encoding\n",
    "with open(\"../Data/data1/ks-projects-201801.csv\", 'rb') as rawdata:\n",
    "    result = chardet.detect(rawdata.read(10000))\n",
    "\n",
    "# check what the character encoding might be\n",
    "print(result)"
   ]
  },
  {
   "cell_type": "markdown",
   "id": "00c08906",
   "metadata": {
    "papermill": {
     "duration": 0.018579,
     "end_time": "2021-09-13T20:11:50.577045",
     "exception": false,
     "start_time": "2021-09-13T20:11:50.558466",
     "status": "completed"
    },
    "tags": []
   },
   "source": [
    "Donc chardet a 73% de confiance que le bon encodage est \"Windows-1252\". Voyons si c'est correct :"
   ]
  },
  {
   "cell_type": "code",
   "execution_count": 10,
   "id": "ec155b5a",
   "metadata": {
    "execution": {
     "iopub.execute_input": "2021-09-13T20:11:50.618716Z",
     "iopub.status.busy": "2021-09-13T20:11:50.617997Z",
     "iopub.status.idle": "2021-09-13T20:11:52.629340Z",
     "shell.execute_reply": "2021-09-13T20:11:52.628822Z"
    },
    "papermill": {
     "duration": 2.033978,
     "end_time": "2021-09-13T20:11:52.629477",
     "exception": false,
     "start_time": "2021-09-13T20:11:50.595499",
     "status": "completed"
    },
    "tags": []
   },
   "outputs": [
    {
     "name": "stderr",
     "output_type": "stream",
     "text": [
      "C:\\Users\\GHESMOMO\\AppData\\Roaming\\Python\\Python38\\site-packages\\IPython\\core\\interactiveshell.py:3071: DtypeWarning: Columns (13,14,15) have mixed types.Specify dtype option on import or set low_memory=False.\n",
      "  has_raised = await self.run_ast_nodes(code_ast.body, cell_name,\n"
     ]
    },
    {
     "data": {
      "text/html": [
       "<div>\n",
       "<style scoped>\n",
       "    .dataframe tbody tr th:only-of-type {\n",
       "        vertical-align: middle;\n",
       "    }\n",
       "\n",
       "    .dataframe tbody tr th {\n",
       "        vertical-align: top;\n",
       "    }\n",
       "\n",
       "    .dataframe thead th {\n",
       "        text-align: right;\n",
       "    }\n",
       "</style>\n",
       "<table border=\"1\" class=\"dataframe\">\n",
       "  <thead>\n",
       "    <tr style=\"text-align: right;\">\n",
       "      <th></th>\n",
       "      <th>ID</th>\n",
       "      <th>name</th>\n",
       "      <th>category</th>\n",
       "      <th>main_category</th>\n",
       "      <th>currency</th>\n",
       "      <th>deadline</th>\n",
       "      <th>goal</th>\n",
       "      <th>launched</th>\n",
       "      <th>pledged</th>\n",
       "      <th>state</th>\n",
       "      <th>backers</th>\n",
       "      <th>country</th>\n",
       "      <th>usd pledged</th>\n",
       "      <th>Unnamed: 13</th>\n",
       "      <th>Unnamed: 14</th>\n",
       "      <th>Unnamed: 15</th>\n",
       "      <th>Unnamed: 16</th>\n",
       "    </tr>\n",
       "  </thead>\n",
       "  <tbody>\n",
       "    <tr>\n",
       "      <th>0</th>\n",
       "      <td>1000002330</td>\n",
       "      <td>The Songs of Adelaide &amp; Abullah</td>\n",
       "      <td>Poetry</td>\n",
       "      <td>Publishing</td>\n",
       "      <td>GBP</td>\n",
       "      <td>2015-10-09 11:36:00</td>\n",
       "      <td>1000</td>\n",
       "      <td>2015-08-11 12:12:28</td>\n",
       "      <td>0</td>\n",
       "      <td>failed</td>\n",
       "      <td>0</td>\n",
       "      <td>GB</td>\n",
       "      <td>0</td>\n",
       "      <td>NaN</td>\n",
       "      <td>NaN</td>\n",
       "      <td>NaN</td>\n",
       "      <td>NaN</td>\n",
       "    </tr>\n",
       "    <tr>\n",
       "      <th>1</th>\n",
       "      <td>1000004038</td>\n",
       "      <td>Where is Hank?</td>\n",
       "      <td>Narrative Film</td>\n",
       "      <td>Film &amp; Video</td>\n",
       "      <td>USD</td>\n",
       "      <td>2013-02-26 00:20:50</td>\n",
       "      <td>45000</td>\n",
       "      <td>2013-01-12 00:20:50</td>\n",
       "      <td>220</td>\n",
       "      <td>failed</td>\n",
       "      <td>3</td>\n",
       "      <td>US</td>\n",
       "      <td>220</td>\n",
       "      <td>NaN</td>\n",
       "      <td>NaN</td>\n",
       "      <td>NaN</td>\n",
       "      <td>NaN</td>\n",
       "    </tr>\n",
       "    <tr>\n",
       "      <th>2</th>\n",
       "      <td>1000007540</td>\n",
       "      <td>ToshiCapital Rekordz Needs Help to Complete Album</td>\n",
       "      <td>Music</td>\n",
       "      <td>Music</td>\n",
       "      <td>USD</td>\n",
       "      <td>2012-04-16 04:24:11</td>\n",
       "      <td>5000</td>\n",
       "      <td>2012-03-17 03:24:11</td>\n",
       "      <td>1</td>\n",
       "      <td>failed</td>\n",
       "      <td>1</td>\n",
       "      <td>US</td>\n",
       "      <td>1</td>\n",
       "      <td>NaN</td>\n",
       "      <td>NaN</td>\n",
       "      <td>NaN</td>\n",
       "      <td>NaN</td>\n",
       "    </tr>\n",
       "    <tr>\n",
       "      <th>3</th>\n",
       "      <td>1000011046</td>\n",
       "      <td>Community Film Project: The Art of Neighborhoo...</td>\n",
       "      <td>Film &amp; Video</td>\n",
       "      <td>Film &amp; Video</td>\n",
       "      <td>USD</td>\n",
       "      <td>2015-08-29 01:00:00</td>\n",
       "      <td>19500</td>\n",
       "      <td>2015-07-04 08:35:03</td>\n",
       "      <td>1283</td>\n",
       "      <td>canceled</td>\n",
       "      <td>14</td>\n",
       "      <td>US</td>\n",
       "      <td>1283</td>\n",
       "      <td>NaN</td>\n",
       "      <td>NaN</td>\n",
       "      <td>NaN</td>\n",
       "      <td>NaN</td>\n",
       "    </tr>\n",
       "    <tr>\n",
       "      <th>4</th>\n",
       "      <td>1000014025</td>\n",
       "      <td>Monarch Espresso Bar</td>\n",
       "      <td>Restaurants</td>\n",
       "      <td>Food</td>\n",
       "      <td>USD</td>\n",
       "      <td>2016-04-01 13:38:27</td>\n",
       "      <td>50000</td>\n",
       "      <td>2016-02-26 13:38:27</td>\n",
       "      <td>52375</td>\n",
       "      <td>successful</td>\n",
       "      <td>224</td>\n",
       "      <td>US</td>\n",
       "      <td>52375</td>\n",
       "      <td>NaN</td>\n",
       "      <td>NaN</td>\n",
       "      <td>NaN</td>\n",
       "      <td>NaN</td>\n",
       "    </tr>\n",
       "  </tbody>\n",
       "</table>\n",
       "</div>"
      ],
      "text/plain": [
       "          ID                                               name   \\\n",
       "0  1000002330                    The Songs of Adelaide & Abullah   \n",
       "1  1000004038                                     Where is Hank?   \n",
       "2  1000007540  ToshiCapital Rekordz Needs Help to Complete Album   \n",
       "3  1000011046  Community Film Project: The Art of Neighborhoo...   \n",
       "4  1000014025                               Monarch Espresso Bar   \n",
       "\n",
       "        category  main_category  currency             deadline   goal   \\\n",
       "0          Poetry     Publishing       GBP  2015-10-09 11:36:00   1000   \n",
       "1  Narrative Film   Film & Video       USD  2013-02-26 00:20:50  45000   \n",
       "2           Music          Music       USD  2012-04-16 04:24:11   5000   \n",
       "3    Film & Video   Film & Video       USD  2015-08-29 01:00:00  19500   \n",
       "4     Restaurants           Food       USD  2016-04-01 13:38:27  50000   \n",
       "\n",
       "             launched  pledged       state  backers  country  usd pledged   \\\n",
       "0  2015-08-11 12:12:28        0      failed        0       GB            0   \n",
       "1  2013-01-12 00:20:50      220      failed        3       US          220   \n",
       "2  2012-03-17 03:24:11        1      failed        1       US            1   \n",
       "3  2015-07-04 08:35:03     1283    canceled       14       US         1283   \n",
       "4  2016-02-26 13:38:27    52375  successful      224       US        52375   \n",
       "\n",
       "  Unnamed: 13 Unnamed: 14 Unnamed: 15  Unnamed: 16  \n",
       "0         NaN         NaN         NaN          NaN  \n",
       "1         NaN         NaN         NaN          NaN  \n",
       "2         NaN         NaN         NaN          NaN  \n",
       "3         NaN         NaN         NaN          NaN  \n",
       "4         NaN         NaN         NaN          NaN  "
      ]
     },
     "execution_count": 10,
     "metadata": {},
     "output_type": "execute_result"
    }
   ],
   "source": [
    "# read in the file with the encoding detected by chardet\n",
    "kickstarter_2016 = pd.read_csv(\"../Data/data1/ks-projects-201612.csv\", encoding='Windows-1252')\n",
    "\n",
    "# look at the first few lines\n",
    "kickstarter_2016.head()"
   ]
  },
  {
   "cell_type": "markdown",
   "id": "10ed5c62",
   "metadata": {
    "papermill": {
     "duration": 0.01953,
     "end_time": "2021-09-13T20:11:52.668575",
     "exception": false,
     "start_time": "2021-09-13T20:11:52.649045",
     "status": "completed"
    },
    "tags": []
   },
   "source": [
    "Oui, on dirait que chardet avait raison ! Le fichier est lu sans problème (bien que nous recevions un avertissement concernant les types de données) et lorsque nous regardons les premières lignes, cela semble bien.\n",
    "\n",
    "> **Et si l'encodage de chardet n'est pas correct ?** Étant donné que chardet n'est fondamentalement qu'un devineur sophistiqué, il devine parfois le mauvais encodage. Une chose que vous pouvez essayer est de regarder plus ou moins le fichier et de voir si vous obtenez un résultat différent, puis essayez cela.\n",
    "\n",
    "### Enregistrer vos fichiers avec l'encodage UTF-8\n",
    "\n",
    "Enfin, une fois que vous vous êtes donné la peine de mettre votre fichier en UTF-8, vous voudrez probablement le garder ainsi. Le moyen le plus simple de le faire est d'enregistrer vos fichiers avec l'encodage UTF-8. La bonne nouvelle est que, puisque UTF-8 est l'encodage standard en Python, lorsque vous enregistrez un fichier, il sera enregistré en UTF-8 par défaut :"
   ]
  },
  {
   "cell_type": "code",
   "execution_count": null,
   "id": "34dd9f5a",
   "metadata": {
    "execution": {
     "iopub.execute_input": "2021-09-13T20:11:52.712186Z",
     "iopub.status.busy": "2021-09-13T20:11:52.711363Z",
     "iopub.status.idle": "2021-09-13T20:11:56.200338Z",
     "shell.execute_reply": "2021-09-13T20:11:56.199675Z"
    },
    "papermill": {
     "duration": 3.512089,
     "end_time": "2021-09-13T20:11:56.200495",
     "exception": false,
     "start_time": "2021-09-13T20:11:52.688406",
     "status": "completed"
    },
    "tags": []
   },
   "outputs": [],
   "source": [
    "# save our file (will be saved as UTF-8 by default!)\n",
    "kickstarter_2016.to_csv(\"ks-projects-201801-utf8.csv\")"
   ]
  },
  {
   "cell_type": "markdown",
   "id": "26e5dd35",
   "metadata": {
    "papermill": {
     "duration": 0.019906,
     "end_time": "2021-09-13T20:11:56.240212",
     "exception": false,
     "start_time": "2021-09-13T20:11:56.220306",
     "status": "completed"
    },
    "tags": []
   },
   "source": [
    "Pretty easy, huh? :)\n",
    "\n",
    "## 2. Exercice"
   ]
  },
  {
   "cell_type": "code",
   "execution_count": null,
   "id": "8ff2094b",
   "metadata": {},
   "outputs": [],
   "source": [
    "# modules we'll use\n",
    "import pandas as pd\n",
    "import numpy as np\n",
    "\n",
    "# helpful character encoding module\n",
    "import chardet\n",
    "\n",
    "# set seed for reproducibility\n",
    "np.random.seed(0)"
   ]
  },
  {
   "cell_type": "markdown",
   "id": "a9baacf3",
   "metadata": {},
   "source": [
    "What are encodings?\n",
    "\n",
    "Vous travaillez avec un ensemble de données composé d'octets. Exécutez la cellule de code ci-dessous pour imprimer un exemple d'entrée."
   ]
  },
  {
   "cell_type": "code",
   "execution_count": null,
   "id": "a006a48c",
   "metadata": {},
   "outputs": [],
   "source": [
    "sample_entry = b'\\xa7A\\xa6n'\n",
    "print(sample_entry)\n",
    "print('data type:', type(sample_entry))"
   ]
  },
  {
   "cell_type": "markdown",
   "id": "77164bc5",
   "metadata": {},
   "source": [
    "Vous remarquez qu'il n'utilise pas l'encodage UTF-8 standard.\n",
    "\n",
    "Utilisez la cellule de code suivante pour créer une variable new_entry qui modifie l'encodage de \"big5-tw\" à \"utf-8\". new_entry doit avoir le type de données bytes."
   ]
  },
  {
   "cell_type": "code",
   "execution_count": null,
   "id": "49173f7f",
   "metadata": {},
   "outputs": [],
   "source": [
    "new_entry = ____"
   ]
  },
  {
   "cell_type": "markdown",
   "id": "15b6a340",
   "metadata": {},
   "source": [
    "Lecture de fichiers avec des problèmes d'encodage\n",
    "\n",
    "Utilisez la cellule de code ci-dessous pour lire ce fichier au chemin \"../Data/data1/PoliceKillingsUS.csv\".\n",
    "\n",
    "Déterminez quel doit être l'encodage correct et lisez le fichier dans un DataFrame police_killings."
   ]
  },
  {
   "cell_type": "code",
   "execution_count": null,
   "id": "7bb12bce",
   "metadata": {},
   "outputs": [],
   "source": [
    "# TODO: Load in the DataFrame correctly.\n",
    "police_killings = ____\n"
   ]
  },
  {
   "cell_type": "markdown",
   "id": "c8ffa276",
   "metadata": {},
   "source": [
    "Enregistrer vos fichiers avec l'encodage UTF-8\n",
    "\n",
    "Enregistrez une version de l'ensemble de données sur les meurtres de policiers au format CSV avec l'encodage UTF-8. Votre réponse sera marquée comme correcte après l'enregistrement de ce fichier.\n",
    "\n",
    "Remarque : lorsque vous utilisez la méthode to_csv(), indiquez uniquement le nom du fichier (par exemple, \"my_file.csv\")."
   ]
  },
  {
   "cell_type": "code",
   "execution_count": null,
   "id": "fcc2fffe",
   "metadata": {},
   "outputs": [],
   "source": [
    "# TODO:"
   ]
  }
 ],
 "metadata": {
  "kernelspec": {
   "display_name": "Python 3",
   "language": "python",
   "name": "python3"
  },
  "language_info": {
   "codemirror_mode": {
    "name": "ipython",
    "version": 3
   },
   "file_extension": ".py",
   "mimetype": "text/x-python",
   "name": "python",
   "nbconvert_exporter": "python",
   "pygments_lexer": "ipython3",
   "version": "3.8.5"
  },
  "papermill": {
   "default_parameters": {},
   "duration": 15.186874,
   "end_time": "2021-09-13T20:11:56.870078",
   "environment_variables": {},
   "exception": null,
   "input_path": "__notebook__.ipynb",
   "output_path": "__notebook__.ipynb",
   "parameters": {},
   "start_time": "2021-09-13T20:11:41.683204",
   "version": "2.3.3"
  }
 },
 "nbformat": 4,
 "nbformat_minor": 5
}
