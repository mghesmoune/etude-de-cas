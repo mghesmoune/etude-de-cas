{
 "cells": [
  {
   "cell_type": "markdown",
   "id": "e992a496",
   "metadata": {
    "papermill": {
     "duration": 0.012116,
     "end_time": "2021-09-13T20:11:55.599555",
     "exception": false,
     "start_time": "2021-09-13T20:11:55.587439",
     "status": "completed"
    },
    "tags": []
   },
   "source": [
    "# Inconsistent data entry\n",
    "## 1. Tutoriel"
   ]
  },
  {
   "cell_type": "code",
   "execution_count": null,
   "id": "306265a1",
   "metadata": {},
   "outputs": [],
   "source": [
    "!pip install fuzzywuzzy"
   ]
  },
  {
   "cell_type": "code",
   "execution_count": 1,
   "id": "d27a2879",
   "metadata": {
    "execution": {
     "iopub.execute_input": "2021-09-13T20:11:55.636739Z",
     "iopub.status.busy": "2021-09-13T20:11:55.636051Z",
     "iopub.status.idle": "2021-09-13T20:11:55.683765Z",
     "shell.execute_reply": "2021-09-13T20:11:55.682944Z"
    },
    "papermill": {
     "duration": 0.071978,
     "end_time": "2021-09-13T20:11:55.684014",
     "exception": false,
     "start_time": "2021-09-13T20:11:55.612036",
     "status": "completed"
    },
    "tags": []
   },
   "outputs": [],
   "source": [
    "# modules we'll use\n",
    "import pandas as pd\n",
    "import numpy as np\n",
    "\n",
    "# helpful modules\n",
    "import fuzzywuzzy\n",
    "from fuzzywuzzy import process\n",
    "import chardet\n",
    "\n",
    "# read in all our data\n",
    "professors = pd.read_csv(\"../Data/data1/pakistan_intellectual_capital.csv\")\n",
    "\n",
    "# set seed for reproducibility\n",
    "np.random.seed(0)"
   ]
  },
  {
   "cell_type": "markdown",
   "id": "feae471b",
   "metadata": {
    "papermill": {
     "duration": 0.012525,
     "end_time": "2021-09-13T20:11:55.709940",
     "exception": false,
     "start_time": "2021-09-13T20:11:55.697415",
     "status": "completed"
    },
    "tags": []
   },
   "source": [
    "## Effectuez un pré-traitement de texte\n",
    "\n",
    "Nous allons commencer par jeter un rapide coup d'œil aux premières lignes de données."
   ]
  },
  {
   "cell_type": "code",
   "execution_count": 2,
   "id": "706f2565",
   "metadata": {
    "execution": {
     "iopub.execute_input": "2021-09-13T20:11:55.745591Z",
     "iopub.status.busy": "2021-09-13T20:11:55.744565Z",
     "iopub.status.idle": "2021-09-13T20:11:55.767212Z",
     "shell.execute_reply": "2021-09-13T20:11:55.767713Z"
    },
    "papermill": {
     "duration": 0.04507,
     "end_time": "2021-09-13T20:11:55.767949",
     "exception": false,
     "start_time": "2021-09-13T20:11:55.722879",
     "status": "completed"
    },
    "tags": []
   },
   "outputs": [
    {
     "data": {
      "text/html": [
       "<div>\n",
       "<style scoped>\n",
       "    .dataframe tbody tr th:only-of-type {\n",
       "        vertical-align: middle;\n",
       "    }\n",
       "\n",
       "    .dataframe tbody tr th {\n",
       "        vertical-align: top;\n",
       "    }\n",
       "\n",
       "    .dataframe thead th {\n",
       "        text-align: right;\n",
       "    }\n",
       "</style>\n",
       "<table border=\"1\" class=\"dataframe\">\n",
       "  <thead>\n",
       "    <tr style=\"text-align: right;\">\n",
       "      <th></th>\n",
       "      <th>Unnamed: 0</th>\n",
       "      <th>S#</th>\n",
       "      <th>Teacher Name</th>\n",
       "      <th>University Currently Teaching</th>\n",
       "      <th>Department</th>\n",
       "      <th>Province University Located</th>\n",
       "      <th>Designation</th>\n",
       "      <th>Terminal Degree</th>\n",
       "      <th>Graduated from</th>\n",
       "      <th>Country</th>\n",
       "      <th>Year</th>\n",
       "      <th>Area of Specialization/Research Interests</th>\n",
       "      <th>Other Information</th>\n",
       "    </tr>\n",
       "  </thead>\n",
       "  <tbody>\n",
       "    <tr>\n",
       "      <th>0</th>\n",
       "      <td>2</td>\n",
       "      <td>3</td>\n",
       "      <td>Dr. Abdul Basit</td>\n",
       "      <td>University of Balochistan</td>\n",
       "      <td>Computer Science &amp; IT</td>\n",
       "      <td>Balochistan</td>\n",
       "      <td>Assistant Professor</td>\n",
       "      <td>PhD</td>\n",
       "      <td>Asian Institute of Technology</td>\n",
       "      <td>Thailand</td>\n",
       "      <td>NaN</td>\n",
       "      <td>Software Engineering &amp; DBMS</td>\n",
       "      <td>NaN</td>\n",
       "    </tr>\n",
       "    <tr>\n",
       "      <th>1</th>\n",
       "      <td>4</td>\n",
       "      <td>5</td>\n",
       "      <td>Dr. Waheed Noor</td>\n",
       "      <td>University of Balochistan</td>\n",
       "      <td>Computer Science &amp; IT</td>\n",
       "      <td>Balochistan</td>\n",
       "      <td>Assistant Professor</td>\n",
       "      <td>PhD</td>\n",
       "      <td>Asian Institute of Technology</td>\n",
       "      <td>Thailand</td>\n",
       "      <td>NaN</td>\n",
       "      <td>DBMS</td>\n",
       "      <td>NaN</td>\n",
       "    </tr>\n",
       "    <tr>\n",
       "      <th>2</th>\n",
       "      <td>5</td>\n",
       "      <td>6</td>\n",
       "      <td>Dr. Junaid Baber</td>\n",
       "      <td>University of Balochistan</td>\n",
       "      <td>Computer Science &amp; IT</td>\n",
       "      <td>Balochistan</td>\n",
       "      <td>Assistant Professor</td>\n",
       "      <td>PhD</td>\n",
       "      <td>Asian Institute of Technology</td>\n",
       "      <td>Thailand</td>\n",
       "      <td>NaN</td>\n",
       "      <td>Information processing, Multimedia mining</td>\n",
       "      <td>NaN</td>\n",
       "    </tr>\n",
       "    <tr>\n",
       "      <th>3</th>\n",
       "      <td>6</td>\n",
       "      <td>7</td>\n",
       "      <td>Dr. Maheen Bakhtyar</td>\n",
       "      <td>University of Balochistan</td>\n",
       "      <td>Computer Science &amp; IT</td>\n",
       "      <td>Balochistan</td>\n",
       "      <td>Assistant Professor</td>\n",
       "      <td>PhD</td>\n",
       "      <td>Asian Institute of Technology</td>\n",
       "      <td>Thailand</td>\n",
       "      <td>NaN</td>\n",
       "      <td>NLP, Information Retrieval, Question Answering...</td>\n",
       "      <td>NaN</td>\n",
       "    </tr>\n",
       "    <tr>\n",
       "      <th>4</th>\n",
       "      <td>24</td>\n",
       "      <td>25</td>\n",
       "      <td>Samina Azim</td>\n",
       "      <td>Sardar Bahadur Khan Women's University</td>\n",
       "      <td>Computer Science</td>\n",
       "      <td>Balochistan</td>\n",
       "      <td>Lecturer</td>\n",
       "      <td>BS</td>\n",
       "      <td>Balochistan University of Information Technolo...</td>\n",
       "      <td>Pakistan</td>\n",
       "      <td>2005.0</td>\n",
       "      <td>VLSI Electronics DLD Database</td>\n",
       "      <td>NaN</td>\n",
       "    </tr>\n",
       "  </tbody>\n",
       "</table>\n",
       "</div>"
      ],
      "text/plain": [
       "   Unnamed: 0  S#         Teacher Name  \\\n",
       "0           2   3      Dr. Abdul Basit   \n",
       "1           4   5      Dr. Waheed Noor   \n",
       "2           5   6     Dr. Junaid Baber   \n",
       "3           6   7  Dr. Maheen Bakhtyar   \n",
       "4          24  25          Samina Azim   \n",
       "\n",
       "            University Currently Teaching             Department  \\\n",
       "0               University of Balochistan  Computer Science & IT   \n",
       "1               University of Balochistan  Computer Science & IT   \n",
       "2               University of Balochistan  Computer Science & IT   \n",
       "3               University of Balochistan  Computer Science & IT   \n",
       "4  Sardar Bahadur Khan Women's University       Computer Science   \n",
       "\n",
       "  Province University Located          Designation Terminal Degree  \\\n",
       "0                 Balochistan  Assistant Professor             PhD   \n",
       "1                 Balochistan  Assistant Professor             PhD   \n",
       "2                 Balochistan  Assistant Professor             PhD   \n",
       "3                 Balochistan  Assistant Professor             PhD   \n",
       "4                 Balochistan             Lecturer              BS   \n",
       "\n",
       "                                      Graduated from   Country    Year  \\\n",
       "0                      Asian Institute of Technology  Thailand     NaN   \n",
       "1                      Asian Institute of Technology  Thailand     NaN   \n",
       "2                      Asian Institute of Technology  Thailand     NaN   \n",
       "3                      Asian Institute of Technology  Thailand     NaN   \n",
       "4  Balochistan University of Information Technolo...  Pakistan  2005.0   \n",
       "\n",
       "           Area of Specialization/Research Interests Other Information  \n",
       "0                        Software Engineering & DBMS               NaN  \n",
       "1                                               DBMS               NaN  \n",
       "2          Information processing, Multimedia mining               NaN  \n",
       "3  NLP, Information Retrieval, Question Answering...               NaN  \n",
       "4                      VLSI Electronics DLD Database               NaN  "
      ]
     },
     "execution_count": 2,
     "metadata": {},
     "output_type": "execute_result"
    }
   ],
   "source": [
    "professors.head()"
   ]
  },
  {
   "cell_type": "markdown",
   "id": "16845ef9",
   "metadata": {
    "papermill": {
     "duration": 0.013372,
     "end_time": "2021-09-13T20:11:55.795438",
     "exception": false,
     "start_time": "2021-09-13T20:11:55.782066",
     "status": "completed"
    },
    "tags": []
   },
   "source": [
    "Supposons que nous souhaitions nettoyer la colonne \"Pays\" pour nous assurer qu'il n'y a pas d'incohérences dans la saisie des données. Nous pourrions bien sûr parcourir et vérifier chaque ligne à la main, et corriger manuellement les incohérences lorsque nous les trouvons. Il existe cependant un moyen plus efficace de le faire !"
   ]
  },
  {
   "cell_type": "code",
   "execution_count": 3,
   "id": "ceccd597",
   "metadata": {
    "execution": {
     "iopub.execute_input": "2021-09-13T20:11:55.826242Z",
     "iopub.status.busy": "2021-09-13T20:11:55.825553Z",
     "iopub.status.idle": "2021-09-13T20:11:55.839232Z",
     "shell.execute_reply": "2021-09-13T20:11:55.838628Z"
    },
    "papermill": {
     "duration": 0.030256,
     "end_time": "2021-09-13T20:11:55.839384",
     "exception": false,
     "start_time": "2021-09-13T20:11:55.809128",
     "status": "completed"
    },
    "tags": []
   },
   "outputs": [
    {
     "data": {
      "text/plain": [
       "array([' Germany', ' New Zealand', ' Sweden', ' USA', 'Australia',\n",
       "       'Austria', 'Canada', 'China', 'Finland', 'France', 'Greece',\n",
       "       'HongKong', 'Ireland', 'Italy', 'Japan', 'Macau', 'Malaysia',\n",
       "       'Mauritius', 'Netherland', 'New Zealand', 'Norway', 'Pakistan',\n",
       "       'Portugal', 'Russian Federation', 'Saudi Arabia', 'Scotland',\n",
       "       'Singapore', 'South Korea', 'SouthKorea', 'Spain', 'Sweden',\n",
       "       'Thailand', 'Turkey', 'UK', 'USA', 'USofA', 'Urbana', 'germany'],\n",
       "      dtype=object)"
      ]
     },
     "execution_count": 3,
     "metadata": {},
     "output_type": "execute_result"
    }
   ],
   "source": [
    "# get all the unique values in the 'Country' column\n",
    "countries = professors['Country'].unique()\n",
    "\n",
    "# sort them alphabetically and then take a closer look\n",
    "countries.sort()\n",
    "countries"
   ]
  },
  {
   "cell_type": "markdown",
   "id": "25ed0cb1",
   "metadata": {
    "papermill": {
     "duration": 0.013958,
     "end_time": "2021-09-13T20:11:55.867379",
     "exception": false,
     "start_time": "2021-09-13T20:11:55.853421",
     "status": "completed"
    },
    "tags": []
   },
   "source": [
    "Rien qu'en regardant cela, je peux voir quelques problèmes dus à une saisie de données incohérente : ' Germany', et 'germany', par exemple, ou ' New Zealand' et 'New Zealand'.\n",
    "\n",
    "La première chose que je vais faire est de tout mettre en minuscules (je peux le changer à la fin si je veux) et de supprimer tous les espaces blancs au début et à la fin des cellules. Les incohérences dans les majuscules et les espaces blancs de fin sont très courantes dans les données de texte et vous pouvez corriger un bon 80 % de vos incohérences de saisie de données de texte en procédant ainsi."
   ]
  },
  {
   "cell_type": "code",
   "execution_count": 4,
   "id": "336f1870",
   "metadata": {
    "execution": {
     "iopub.execute_input": "2021-09-13T20:11:55.899457Z",
     "iopub.status.busy": "2021-09-13T20:11:55.898762Z",
     "iopub.status.idle": "2021-09-13T20:11:55.905961Z",
     "shell.execute_reply": "2021-09-13T20:11:55.906491Z"
    },
    "papermill": {
     "duration": 0.024703,
     "end_time": "2021-09-13T20:11:55.906688",
     "exception": false,
     "start_time": "2021-09-13T20:11:55.881985",
     "status": "completed"
    },
    "tags": []
   },
   "outputs": [],
   "source": [
    "# convert to lower case\n",
    "professors['Country'] = professors['Country'].str.lower()\n",
    "# remove trailing white spaces\n",
    "professors['Country'] = professors['Country'].str.strip()"
   ]
  },
  {
   "cell_type": "markdown",
   "id": "d6ad5f8d",
   "metadata": {
    "papermill": {
     "duration": 0.013892,
     "end_time": "2021-09-13T20:11:55.934765",
     "exception": false,
     "start_time": "2021-09-13T20:11:55.920873",
     "status": "completed"
    },
    "tags": []
   },
   "source": [
    "Ensuite, nous allons nous attaquer à des incohérences plus difficiles.\n",
    "\n",
    "## Utiliser la correspondance approximative pour corriger la saisie de données incohérente\n",
    "\n",
    "D'accord, jetons un autre coup d'œil à la colonne \"Country\" et voyons s'il y a plus de nettoyage de données que nous devons faire."
   ]
  },
  {
   "cell_type": "code",
   "execution_count": 5,
   "id": "635d465d",
   "metadata": {
    "execution": {
     "iopub.execute_input": "2021-09-13T20:11:55.971612Z",
     "iopub.status.busy": "2021-09-13T20:11:55.969704Z",
     "iopub.status.idle": "2021-09-13T20:11:55.976199Z",
     "shell.execute_reply": "2021-09-13T20:11:55.975632Z"
    },
    "papermill": {
     "duration": 0.026023,
     "end_time": "2021-09-13T20:11:55.976358",
     "exception": false,
     "start_time": "2021-09-13T20:11:55.950335",
     "status": "completed"
    },
    "tags": []
   },
   "outputs": [
    {
     "data": {
      "text/plain": [
       "array(['australia', 'austria', 'canada', 'china', 'finland', 'france',\n",
       "       'germany', 'greece', 'hongkong', 'ireland', 'italy', 'japan',\n",
       "       'macau', 'malaysia', 'mauritius', 'netherland', 'new zealand',\n",
       "       'norway', 'pakistan', 'portugal', 'russian federation',\n",
       "       'saudi arabia', 'scotland', 'singapore', 'south korea',\n",
       "       'southkorea', 'spain', 'sweden', 'thailand', 'turkey', 'uk',\n",
       "       'urbana', 'usa', 'usofa'], dtype=object)"
      ]
     },
     "execution_count": 5,
     "metadata": {},
     "output_type": "execute_result"
    }
   ],
   "source": [
    "# get all the unique values in the 'Country' column\n",
    "countries = professors['Country'].unique()\n",
    "\n",
    "# sort them alphabetically and then take a closer look\n",
    "countries.sort()\n",
    "countries"
   ]
  },
  {
   "cell_type": "markdown",
   "id": "d849a175",
   "metadata": {
    "papermill": {
     "duration": 0.014167,
     "end_time": "2021-09-13T20:11:56.005059",
     "exception": false,
     "start_time": "2021-09-13T20:11:55.990892",
     "status": "completed"
    },
    "tags": []
   },
   "source": [
    "On dirait qu'il y a une autre incohérence :  'southkorea' et 'south korea' devraient être identiques.\n",
    "\n",
    "Nous allons utiliser le package [fuzzywuzzy](https://github.com/seatgeek/fuzzywuzzy) pour aider à identifier les chaînes les plus proches les unes des autres. Cet ensemble de données est suffisamment petit pour que nous puissions probablement corriger les erreurs à la main, mais cette approche ne s'adapte pas bien. (Voudriez-vous corriger un millier d'erreurs à la main ? Et dix mille ? Automatiser les choses le plus tôt possible est généralement une bonne idée. En plus, c'est amusant !)\n",
    "\n",
    "> **Correspondance approximative :** Le processus de recherche automatique de chaînes de texte très similaires à la chaîne cible. En général, une chaîne est considérée comme \"plus proche\" d'une autre d'autant moins que vous auriez besoin de changer de caractères si vous transformiez une chaîne en une autre. Ainsi, \"apple\" et \"snapple\" sont à deux changements l'un de l'autre (ajoutez \"s\" et \"n\") tandis que \"in\" et \"on\" et un changement (remplacez \"i\" par \"o\"). Vous ne pourrez pas toujours vous fier à 100% à la correspondance approximative, mais cela finira généralement par vous faire gagner au moins un peu de temps.\n",
    "\n",
    "Fuzzywuzzy renvoie un rapport donné à deux chaînes. Plus le rapport est proche de 100, plus la distance d'édition entre les deux chaînes est petite. Ici, nous allons obtenir les dix chaînes de notre liste de villes qui ont la distance la plus proche de \"d.i khan\"."
   ]
  },
  {
   "cell_type": "code",
   "execution_count": 6,
   "id": "fd5872de",
   "metadata": {
    "execution": {
     "iopub.execute_input": "2021-09-13T20:11:56.042486Z",
     "iopub.status.busy": "2021-09-13T20:11:56.041525Z",
     "iopub.status.idle": "2021-09-13T20:11:56.044522Z",
     "shell.execute_reply": "2021-09-13T20:11:56.045012Z"
    },
    "papermill": {
     "duration": 0.025504,
     "end_time": "2021-09-13T20:11:56.045203",
     "exception": false,
     "start_time": "2021-09-13T20:11:56.019699",
     "status": "completed"
    },
    "tags": []
   },
   "outputs": [
    {
     "data": {
      "text/plain": [
       "[('south korea', 100),\n",
       " ('southkorea', 48),\n",
       " ('saudi arabia', 43),\n",
       " ('norway', 35),\n",
       " ('austria', 33),\n",
       " ('ireland', 33),\n",
       " ('pakistan', 32),\n",
       " ('portugal', 32),\n",
       " ('scotland', 32),\n",
       " ('australia', 30)]"
      ]
     },
     "execution_count": 6,
     "metadata": {},
     "output_type": "execute_result"
    }
   ],
   "source": [
    "# get the top 10 closest matches to \"south korea\"\n",
    "matches = fuzzywuzzy.process.extract(\"south korea\", countries, limit=10, scorer=fuzzywuzzy.fuzz.token_sort_ratio)\n",
    "\n",
    "# take a look at them\n",
    "matches"
   ]
  },
  {
   "cell_type": "markdown",
   "id": "cf927fd3",
   "metadata": {
    "papermill": {
     "duration": 0.01454,
     "end_time": "2021-09-13T20:11:56.074731",
     "exception": false,
     "start_time": "2021-09-13T20:11:56.060191",
     "status": "completed"
    },
    "tags": []
   },
   "source": [
    "Nous pouvons voir que deux des éléments dans les villes sont très proches de \"south korea\": \"south korea\" et \"southkorea\". Remplaçons toutes les lignes de notre colonne \"Country\" qui ont un ratio > 47 avec \"south korea\". \n",
    "\n",
    "Pour ce faire, je vais écrire une fonction. (C'est une bonne idée d'écrire une fonction à usage général que vous pouvez réutiliser si vous pensez avoir à faire une tâche spécifique plus d'une ou deux fois. Cela vous évite d'avoir à copier et coller du code trop souvent, ce qui permet de gagner du temps et peut aider éviter les erreurs.)"
   ]
  },
  {
   "cell_type": "code",
   "execution_count": 7,
   "id": "3faf0805",
   "metadata": {
    "execution": {
     "iopub.execute_input": "2021-09-13T20:11:56.110092Z",
     "iopub.status.busy": "2021-09-13T20:11:56.109297Z",
     "iopub.status.idle": "2021-09-13T20:11:56.115456Z",
     "shell.execute_reply": "2021-09-13T20:11:56.115973Z"
    },
    "papermill": {
     "duration": 0.026321,
     "end_time": "2021-09-13T20:11:56.116186",
     "exception": false,
     "start_time": "2021-09-13T20:11:56.089865",
     "status": "completed"
    },
    "tags": []
   },
   "outputs": [],
   "source": [
    "# function to replace rows in the provided column of the provided dataframe\n",
    "# that match the provided string above the provided ratio with the provided string\n",
    "def replace_matches_in_column(df, column, string_to_match, min_ratio = 47):\n",
    "    # get a list of unique strings\n",
    "    strings = df[column].unique()\n",
    "    \n",
    "    # get the top 10 closest matches to our input string\n",
    "    matches = fuzzywuzzy.process.extract(string_to_match, strings, \n",
    "                                         limit=10, scorer=fuzzywuzzy.fuzz.token_sort_ratio)\n",
    "\n",
    "    # only get matches with a ratio > 90\n",
    "    close_matches = [matches[0] for matches in matches if matches[1] >= min_ratio]\n",
    "\n",
    "    # get the rows of all the close matches in our dataframe\n",
    "    rows_with_matches = df[column].isin(close_matches)\n",
    "\n",
    "    # replace all rows with close matches with the input matches \n",
    "    df.loc[rows_with_matches, column] = string_to_match\n",
    "    \n",
    "    # let us know the function's done\n",
    "    print(\"All done!\")"
   ]
  },
  {
   "cell_type": "markdown",
   "id": "4a3764f7",
   "metadata": {
    "papermill": {
     "duration": 0.014913,
     "end_time": "2021-09-13T20:11:56.146544",
     "exception": false,
     "start_time": "2021-09-13T20:11:56.131631",
     "status": "completed"
    },
    "tags": []
   },
   "source": [
    "Maintenant que nous avons une fonction, nous pouvons la tester !"
   ]
  },
  {
   "cell_type": "code",
   "execution_count": 8,
   "id": "8956f330",
   "metadata": {
    "execution": {
     "iopub.execute_input": "2021-09-13T20:11:56.182248Z",
     "iopub.status.busy": "2021-09-13T20:11:56.181522Z",
     "iopub.status.idle": "2021-09-13T20:11:56.189643Z",
     "shell.execute_reply": "2021-09-13T20:11:56.190169Z"
    },
    "papermill": {
     "duration": 0.027376,
     "end_time": "2021-09-13T20:11:56.190385",
     "exception": false,
     "start_time": "2021-09-13T20:11:56.163009",
     "status": "completed"
    },
    "tags": []
   },
   "outputs": [
    {
     "name": "stdout",
     "output_type": "stream",
     "text": [
      "All done!\n"
     ]
    }
   ],
   "source": [
    "# use the function we just wrote to replace close matches to \"south korea\" with \"south korea\"\n",
    "replace_matches_in_column(df=professors, column='Country', string_to_match=\"south korea\")"
   ]
  },
  {
   "cell_type": "markdown",
   "id": "1d824607",
   "metadata": {
    "papermill": {
     "duration": 0.015324,
     "end_time": "2021-09-13T20:11:56.221484",
     "exception": false,
     "start_time": "2021-09-13T20:11:56.206160",
     "status": "completed"
    },
    "tags": []
   },
   "source": [
    "Et maintenant, vérifions à nouveau les valeurs uniques dans notre colonne \"Country\" et assurons-nous que nous avons bien rangé la \"south korea\"."
   ]
  },
  {
   "cell_type": "code",
   "execution_count": 9,
   "id": "779a5a8f",
   "metadata": {
    "execution": {
     "iopub.execute_input": "2021-09-13T20:11:56.260885Z",
     "iopub.status.busy": "2021-09-13T20:11:56.259881Z",
     "iopub.status.idle": "2021-09-13T20:11:56.264491Z",
     "shell.execute_reply": "2021-09-13T20:11:56.263908Z"
    },
    "papermill": {
     "duration": 0.027455,
     "end_time": "2021-09-13T20:11:56.264641",
     "exception": false,
     "start_time": "2021-09-13T20:11:56.237186",
     "status": "completed"
    },
    "tags": []
   },
   "outputs": [
    {
     "data": {
      "text/plain": [
       "array(['australia', 'austria', 'canada', 'china', 'finland', 'france',\n",
       "       'germany', 'greece', 'hongkong', 'ireland', 'italy', 'japan',\n",
       "       'macau', 'malaysia', 'mauritius', 'netherland', 'new zealand',\n",
       "       'norway', 'pakistan', 'portugal', 'russian federation',\n",
       "       'saudi arabia', 'scotland', 'singapore', 'south korea', 'spain',\n",
       "       'sweden', 'thailand', 'turkey', 'uk', 'urbana', 'usa', 'usofa'],\n",
       "      dtype=object)"
      ]
     },
     "execution_count": 9,
     "metadata": {},
     "output_type": "execute_result"
    }
   ],
   "source": [
    "# get all the unique values in the 'Country' column\n",
    "countries = professors['Country'].unique()\n",
    "\n",
    "# sort them alphabetically and then take a closer look\n",
    "countries.sort()\n",
    "countries"
   ]
  },
  {
   "cell_type": "markdown",
   "id": "094ca391",
   "metadata": {},
   "source": [
    "## 2. Exercice"
   ]
  },
  {
   "cell_type": "code",
   "execution_count": null,
   "id": "687418b7",
   "metadata": {},
   "outputs": [],
   "source": [
    "# modules we'll use\n",
    "import pandas as pd\n",
    "import numpy as np\n",
    "\n",
    "# helpful modules\n",
    "import fuzzywuzzy\n",
    "from fuzzywuzzy import process\n",
    "import chardet\n",
    "\n",
    "# read in all our data\n",
    "professors = pd.read_csv(\"../Data/data1/pakistan_intellectual_capital.csv\")\n",
    "\n",
    "# set seed for reproducibility\n",
    "np.random.seed(0)"
   ]
  },
  {
   "cell_type": "markdown",
   "id": "936f004a",
   "metadata": {},
   "source": [
    "Ensuite, nous allons refaire tout le travail que nous avons fait dans le tutoriel."
   ]
  },
  {
   "cell_type": "code",
   "execution_count": null,
   "id": "93197fca",
   "metadata": {},
   "outputs": [],
   "source": [
    "# convert to lower case\n",
    "professors['Country'] = professors['Country'].str.lower()\n",
    "# remove trailing white spaces\n",
    "professors['Country'] = professors['Country'].str.strip()\n",
    "\n",
    "# get the top 10 closest matches to \"south korea\"\n",
    "countries = professors['Country'].unique()\n",
    "matches = fuzzywuzzy.process.extract(\"south korea\", countries, limit=10, scorer=fuzzywuzzy.fuzz.token_sort_ratio)\n",
    "\n",
    "def replace_matches_in_column(df, column, string_to_match, min_ratio = 47):\n",
    "    # get a list of unique strings\n",
    "    strings = df[column].unique()\n",
    "    \n",
    "    # get the top 10 closest matches to our input string\n",
    "    matches = fuzzywuzzy.process.extract(string_to_match, strings, \n",
    "                                         limit=10, scorer=fuzzywuzzy.fuzz.token_sort_ratio)\n",
    "\n",
    "    # only get matches with a ratio > 90\n",
    "    close_matches = [matches[0] for matches in matches if matches[1] >= min_ratio]\n",
    "\n",
    "    # get the rows of all the close matches in our dataframe\n",
    "    rows_with_matches = df[column].isin(close_matches)\n",
    "\n",
    "    # replace all rows with close matches with the input matches \n",
    "    df.loc[rows_with_matches, column] = string_to_match\n",
    "    \n",
    "    # let us know the function's done\n",
    "    print(\"All done!\")\n",
    "    \n",
    "replace_matches_in_column(df=professors, column='Country', string_to_match=\"south korea\")\n",
    "countries = professors['Country'].unique()"
   ]
  },
  {
   "cell_type": "markdown",
   "id": "9e4d3610",
   "metadata": {},
   "source": [
    "1) Examiner une autre colonne\n",
    "\n",
    "Écrivez le code ci-dessous pour jeter un œil à toutes les valeurs uniques dans la colonne \"Graduated from\"."
   ]
  },
  {
   "cell_type": "code",
   "execution_count": null,
   "id": "561c46d8",
   "metadata": {},
   "outputs": [],
   "source": [
    "# TODO:"
   ]
  },
  {
   "cell_type": "markdown",
   "id": "bfa2dd31",
   "metadata": {},
   "source": [
    "Avez-vous remarqué des incohérences dans les données ? L'une des incohérences dans les données peut-elle être corrigée en supprimant les espaces blancs au début et à la fin des cellules ?\n",
    "\n",
    "Une fois que vous avez répondu à ces questions, exécutez la cellule de code ci-dessous pour obtenir un crédit pour votre travail."
   ]
  },
  {
   "cell_type": "code",
   "execution_count": null,
   "id": "99cc31f8",
   "metadata": {},
   "outputs": [],
   "source": [
    "# TODO:"
   ]
  },
  {
   "cell_type": "markdown",
   "id": "0cc2fcf8",
   "metadata": {},
   "source": [
    "2) Faire un pré-traitement de texte\n",
    "\n",
    "Convertissez chaque entrée de la colonne \"Graduated from\" dans le DataFrame des professeurs pour supprimer les espaces blancs au début et à la fin des cellules."
   ]
  },
  {
   "cell_type": "code",
   "execution_count": null,
   "id": "e27c9907",
   "metadata": {},
   "outputs": [],
   "source": [
    "# TODO:"
   ]
  },
  {
   "cell_type": "markdown",
   "id": "fe0ebcd8",
   "metadata": {},
   "source": [
    "3) Continuer à travailler avec les pays\n",
    "\n",
    "Dans le tutoriel, nous nous sommes concentrés sur le nettoyage des incohérences dans la colonne \"Country\". Exécutez la cellule de code ci-dessous pour afficher la liste des valeurs uniques avec lesquelles nous avons terminé."
   ]
  },
  {
   "cell_type": "code",
   "execution_count": null,
   "id": "715d5897",
   "metadata": {},
   "outputs": [],
   "source": [
    "# get all the unique values in the 'City' column\n",
    "countries = professors['Country'].unique()\n",
    "\n",
    "# sort them alphabetically and then take a closer look\n",
    "countries.sort()\n",
    "countries"
   ]
  },
  {
   "cell_type": "code",
   "execution_count": null,
   "id": "7fb98f00",
   "metadata": {},
   "outputs": [],
   "source": []
  },
  {
   "cell_type": "markdown",
   "id": "e1c5397f",
   "metadata": {},
   "source": [
    "Examinez à nouveau la colonne \"Pays\" et voyez s'il y a plus de nettoyage de données que nous devons faire.\n",
    "\n",
    "Il semble que « usa » et « usofa » devraient être le même pays. Corrigez la colonne « Country » dans le cadre de données afin que « usofa » apparaisse à la place de « usa »."
   ]
  },
  {
   "cell_type": "code",
   "execution_count": null,
   "id": "1e81578f",
   "metadata": {},
   "outputs": [],
   "source": [
    "# TODO:"
   ]
  },
  {
   "cell_type": "code",
   "execution_count": null,
   "id": "51b50e52",
   "metadata": {},
   "outputs": [],
   "source": []
  }
 ],
 "metadata": {
  "kernelspec": {
   "display_name": "Python 3",
   "language": "python",
   "name": "python3"
  },
  "language_info": {
   "codemirror_mode": {
    "name": "ipython",
    "version": 3
   },
   "file_extension": ".py",
   "mimetype": "text/x-python",
   "name": "python",
   "nbconvert_exporter": "python",
   "pygments_lexer": "ipython3",
   "version": "3.8.5"
  },
  "papermill": {
   "default_parameters": {},
   "duration": 10.844075,
   "end_time": "2021-09-13T20:11:57.882953",
   "environment_variables": {},
   "exception": null,
   "input_path": "__notebook__.ipynb",
   "output_path": "__notebook__.ipynb",
   "parameters": {},
   "start_time": "2021-09-13T20:11:47.038878",
   "version": "2.3.3"
  }
 },
 "nbformat": 4,
 "nbformat_minor": 5
}
