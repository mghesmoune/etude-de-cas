{
 "cells": [
  {
   "cell_type": "markdown",
   "id": "224f1ea9",
   "metadata": {},
   "source": [
    "# III. Creation de Features"
   ]
  },
  {
   "cell_type": "markdown",
   "id": "5aeb7c54",
   "metadata": {},
   "source": [
    "Une fois que vous avez identifié un ensemble de features présentant un certain potentiel, il est temps de commencer à les développer. Dans ce cours, vous apprendrez un certain nombre de transformations courantes que vous pouvez effectuer avec Pandas.\n",
    "\n",
    "Nous utiliserons quatre ensembles de données ayant une gamme de types de features : *US Traffic Accidents*, *1985 Automobiles*, *Concrete Formulations* et *Customer Lifetime Value*."
   ]
  },
  {
   "cell_type": "code",
   "execution_count": null,
   "id": "9e2758d5",
   "metadata": {},
   "outputs": [],
   "source": [
    "import matplotlib.pyplot as plt\n",
    "import numpy as np\n",
    "import pandas as pd\n",
    "import seaborn as sns\n",
    "\n",
    "plt.style.use(\"seaborn-whitegrid\")\n",
    "plt.rc(\"figure\", autolayout=True)\n",
    "plt.rc(\n",
    "    \"axes\",\n",
    "    labelweight=\"bold\",\n",
    "    labelsize=\"large\",\n",
    "    titleweight=\"bold\",\n",
    "    titlesize=14,\n",
    "    titlepad=10,\n",
    ")\n",
    "\n",
    "accidents = pd.read_csv(\"../Data/data2/FE-Course-Data/accidents.csv\")\n",
    "autos = pd.read_csv(\"../Data/data2/FE-Course-Data/autos.csv\")\n",
    "concrete = pd.read_csv(\"../Data/data2/FE-Course-Data/concrete.csv\")\n",
    "customer = pd.read_csv(\"../Data/data2/FE-Course-Data/customer.csv\")"
   ]
  },
  {
   "cell_type": "markdown",
   "id": "a891780a",
   "metadata": {},
   "source": [
    "<blockquote style=\"margin-right:auto; margin-left:auto; background-color: #ebf9ff; padding: 1em; margin:24px;\">\n",
    "<strong>Tips on Discovering New Features</strong>\n",
    "<ul>\n",
    "<li>Understand the features. Refer to your dataset's <em>data documentation</em>, if available.\n",
    "<li>Research the problem domain to acquire <strong>domain knowledge</strong>. If your problem is predicting house prices, do some research on real-estate for instance. Wikipedia can be a good starting point, but books and <a href=\"https://scholar.google.com/\">journal articles</a> will often have the best information.\n",
    "<li>Study previous work.\n",
    "<li>Use data visualization. Visualization can reveal pathologies in the distribution of a feature or complicated relationships that could be simplified. Be sure to visualize your dataset as you work through the feature engineering process.\n",
    "<ul>\n",
    "</blockquote>\n",
    "\n",
    "### Transformations mathématiques #\n",
    "\n",
    "Les relations entre les features numériques sont souvent exprimées par des formules mathématiques, que vous rencontrerez fréquemment dans le cadre de votre recherche de domaine. Dans Pandas, vous pouvez appliquer des opérations arithmétiques aux colonnes comme s'il s'agissait de nombres ordinaires.\n",
    "\n",
    "Dans le dataset *Automobile* se trouvent des features décrivant le moteur d'une voiture. La recherche fournit une variété de formules pour créer de nouvelles features potentiellement utiles. Le \"rapport de course\", par exemple, est une mesure de l'efficacité d'un moteur par rapport à sa performance :"
   ]
  },
  {
   "cell_type": "code",
   "execution_count": null,
   "id": "fb301a7d",
   "metadata": {},
   "outputs": [],
   "source": [
    "autos[\"stroke_ratio\"] = autos.stroke / autos.bore\n",
    "\n",
    "autos[[\"stroke\", \"bore\", \"stroke_ratio\"]].head()"
   ]
  },
  {
   "cell_type": "markdown",
   "id": "cc514c8d",
   "metadata": {},
   "source": [
    "Plus une combinaison est compliquée, plus il sera difficile pour un modèle d'apprendre, comme cette formule pour la « cylindrée » d'un moteur, une mesure de sa puissance :"
   ]
  },
  {
   "cell_type": "code",
   "execution_count": null,
   "id": "0936818f",
   "metadata": {},
   "outputs": [],
   "source": [
    "autos[\"displacement\"] = (\n",
    "    np.pi * ((0.5 * autos.bore) ** 2) * autos.stroke * autos.num_of_cylinders\n",
    ")"
   ]
  },
  {
   "cell_type": "markdown",
   "id": "45fb3b94",
   "metadata": {},
   "source": [
    "La visualisation des données peut suggérer des transformations, souvent un \"reshaping\" d'une feature à l'aide de puissances ou de logarithmes. La distribution de `WindSpeed` dans *US Accidents* est très asymétrique, par exemple. Dans ce cas, le logarithme est efficace pour le normaliser :"
   ]
  },
  {
   "cell_type": "code",
   "execution_count": null,
   "id": "5f113243",
   "metadata": {},
   "outputs": [],
   "source": [
    "# If the feature has 0.0 values, use np.log1p (log(1+x)) instead of np.log\n",
    "accidents[\"LogWindSpeed\"] = accidents.WindSpeed.apply(np.log1p)\n",
    "\n",
    "# Plot a comparison\n",
    "fig, axs = plt.subplots(1, 2, figsize=(8, 4))\n",
    "sns.kdeplot(accidents.WindSpeed, shade=True, ax=axs[0])\n",
    "sns.kdeplot(accidents.LogWindSpeed, shade=True, ax=axs[1]);"
   ]
  },
  {
   "cell_type": "markdown",
   "id": "3876bcb8",
   "metadata": {},
   "source": [
    "### Counts #\n",
    "\n",
    "Les caractéristiques décrivant la présence ou l'absence de quelque chose viennent souvent en ensembles, par exemple l'ensemble des facteurs de risque d'une maladie. Vous pouvez agréger ces caractéristiques en créant un **compte**.\n",
    "\n",
    "Ces caractéristiques seront *binaires* (`1` pour Présent, `0` pour Absent) ou *booléen* (`True` ou `False`). En Python, les booléens peuvent être additionnés comme s'il s'agissait d'entiers.\n",
    "\n",
    "Dans *Traffic Accidents*, plusieurs éléments indiquent si un objet de la chaussée était à proximité de l'accident. Cela créera un décompte du nombre total d'entités routières à proximité à l'aide de la méthode `sum` :"
   ]
  },
  {
   "cell_type": "code",
   "execution_count": null,
   "id": "eaead909",
   "metadata": {},
   "outputs": [],
   "source": [
    "roadway_features = [\"Amenity\", \"Bump\", \"Crossing\", \"GiveWay\",\n",
    "    \"Junction\", \"NoExit\", \"Railway\", \"Roundabout\", \"Station\", \"Stop\",\n",
    "    \"TrafficCalming\", \"TrafficSignal\"]\n",
    "accidents[\"RoadwayFeatures\"] = accidents[roadway_features].sum(axis=1)\n",
    "\n",
    "accidents[roadway_features + [\"RoadwayFeatures\"]].head(10)"
   ]
  },
  {
   "cell_type": "markdown",
   "id": "70d3cee4",
   "metadata": {},
   "source": [
    "Vous pouvez également utiliser les méthodes intégrées d'un cadre de données pour *créer* des valeurs booléennes. Dans l'ensemble de données *Concrete* se trouvent les quantités de composants dans une formulation concrète. De nombreuses formulations manquent d'un ou plusieurs composants (c'est-à-dire que le composant a une valeur de 0). Cela comptera le nombre de composants dans une formulation avec la méthode intégrée supérieure à `gt` :"
   ]
  },
  {
   "cell_type": "code",
   "execution_count": null,
   "id": "3374c08c",
   "metadata": {},
   "outputs": [],
   "source": [
    "components = [ \"Cement\", \"BlastFurnaceSlag\", \"FlyAsh\", \"Water\",\n",
    "               \"Superplasticizer\", \"CoarseAggregate\", \"FineAggregate\"]\n",
    "concrete[\"Components\"] = concrete[components].gt(0).sum(axis=1)\n",
    "\n",
    "concrete[components + [\"Components\"]].head(10)"
   ]
  },
  {
   "cell_type": "markdown",
   "id": "5d1b70d9",
   "metadata": {},
   "source": [
    "### Construction et décomposition de features #\n",
    "\n",
    "Souvent, vous aurez des chaînes complexes qui peuvent utilement être divisées en morceaux plus simples. Quelques exemples courants :\n",
    "- ID numbers: `'123-45-6789'`\n",
    "- Phone numbers: `'(999) 555-0123'`\n",
    "- Street addresses: `'8241 Kaggle Ln., Goose City, NV'`\n",
    "- Internet addresses: `'http://www.kaggle.com`\n",
    "- Product codes: `'0 36000 29145 2'`\n",
    "- Dates and times: `'Mon Sep 30 07:06:05 2013'`\n",
    "\n",
    "Des features comme celles-ci auront souvent une sorte de structure que vous pourrez utiliser. Les numéros de téléphone américains, par exemple, ont un indicatif régional (la partie `'(999)'`) qui vous indique l'emplacement de l'appelant. Comme toujours, certaines recherches peuvent être payantes ici.\n",
    "\n",
    "L'accesseur `str` vous permet d'appliquer des méthodes directement sur les colonnes telle que `split`. L'ensemble de données *Customer Lifetime Value* contient des features décrivant les clients d'une compagnie d'assurance. À partir de la feature `Policy`, nous pourrions séparer le « Type » du « Niveau » de couverture :"
   ]
  },
  {
   "cell_type": "code",
   "execution_count": null,
   "id": "2263e3c4",
   "metadata": {},
   "outputs": [],
   "source": [
    "customer[[\"Type\", \"Level\"]] = (  # Create two new features\n",
    "    customer[\"Policy\"]           # from the Policy feature\n",
    "    .str                         # through the string accessor\n",
    "    .split(\" \", expand=True)     # by splitting on \" \"\n",
    "                                 # and expanding the result into separate columns\n",
    ")\n",
    "\n",
    "customer[[\"Policy\", \"Type\", \"Level\"]].head(10)"
   ]
  },
  {
   "cell_type": "markdown",
   "id": "094f9dfa",
   "metadata": {},
   "source": [
    "Vous pouvez également regrouper des features simples dans une feature composée si vous avez des raisons de croire qu'il y a eu une interaction dans la combinaison :"
   ]
  },
  {
   "cell_type": "code",
   "execution_count": null,
   "id": "2ce5570f",
   "metadata": {},
   "outputs": [],
   "source": [
    "autos[\"make_and_style\"] = autos[\"make\"] + \"_\" + autos[\"body_style\"]\n",
    "autos[[\"make\", \"body_style\", \"make_and_style\"]].head()"
   ]
  },
  {
   "cell_type": "markdown",
   "id": "ead6db1b",
   "metadata": {},
   "source": [
    "### Group Transforms #\n",
    "\n",
    "Enfin nous avons les **transformations de groupe**, qui agrège les informations sur plusieurs lignes regroupées par catégorie. Avec une transformation de groupe, vous pouvez créer des features telles que : \"le revenu moyen de l'état de résidence d'une personne\" ou \"la proportion de films sortis un jour de semaine, par genre.\" Si vous aviez découvert une interaction de catégorie, une transformation de groupe sur cette catégorie pourrait être quelque chose de bon à étudier.\n",
    "\n",
    "À l'aide d'une fonction d'agrégation, une transformation de groupe combine deux features : une feature catégorielle qui fournit le regroupement et une autre feature dont vous souhaitez agréger les valeurs. Pour un « revenu moyen par état », vous choisiriez `State` pour la feature de regroupement, `mean` pour la fonction d'agrégation et `Income` pour la feature agrégée. Pour calculer cela dans Pandas, nous utilisons les méthodes « groupby » et « transform » :"
   ]
  },
  {
   "cell_type": "code",
   "execution_count": null,
   "id": "3d5ac25c",
   "metadata": {},
   "outputs": [],
   "source": [
    "customer[\"AverageIncome\"] = (\n",
    "    customer.groupby(\"State\")  # for each state\n",
    "    [\"Income\"]                 # select the income\n",
    "    .transform(\"mean\")         # and compute its mean\n",
    ")\n",
    "\n",
    "customer[[\"State\", \"Income\", \"AverageIncome\"]].head(10)"
   ]
  },
  {
   "cell_type": "markdown",
   "id": "310bd66b",
   "metadata": {},
   "source": [
    "Voici comment vous pouvez calculer la fréquence à laquelle chaque état se produit dans l'ensemble de données :"
   ]
  },
  {
   "cell_type": "code",
   "execution_count": null,
   "id": "1cdb50c8",
   "metadata": {},
   "outputs": [],
   "source": [
    "customer[\"StateFreq\"] = (\n",
    "    customer.groupby(\"State\")\n",
    "    [\"State\"]\n",
    "    .transform(\"count\")\n",
    "    / customer.State.count()\n",
    ")\n",
    "\n",
    "customer[[\"State\", \"StateFreq\"]].head(10)"
   ]
  },
  {
   "cell_type": "markdown",
   "id": "117cc485",
   "metadata": {},
   "source": [
    "Vous pouvez utiliser une transformation comme celle-ci pour créer un \"codage de fréquence\" pour une caractéristique catégorielle.\n",
    "\n",
    "Si vous utilisez des fractionnements d'entraînement et de validation, pour préserver leur indépendance, il est préférable de créer une feature groupée en utilisant uniquement l'ensemble d'entraînement, puis de la joindre à l'ensemble de validation. Nous pouvons utiliser la méthode « merge » de l'ensemble de validation après avoir créé un ensemble unique de valeurs avec « drop_duplicates » sur l'ensemble d'apprentissage :"
   ]
  },
  {
   "cell_type": "code",
   "execution_count": null,
   "id": "6f7a19e4",
   "metadata": {},
   "outputs": [],
   "source": [
    "# Create splits\n",
    "df_train = customer.sample(frac=0.5)\n",
    "df_valid = customer.drop(df_train.index)\n",
    "\n",
    "# Create the average claim amount by coverage type, on the training set\n",
    "df_train[\"AverageClaim\"] = df_train.groupby(\"Coverage\")[\"ClaimAmount\"].transform(\"mean\")\n",
    "\n",
    "# Merge the values into the validation set\n",
    "df_valid = df_valid.merge(\n",
    "    df_train[[\"Coverage\", \"AverageClaim\"]].drop_duplicates(),\n",
    "    on=\"Coverage\",\n",
    "    how=\"left\",\n",
    ")\n",
    "\n",
    "df_valid[[\"Coverage\", \"AverageClaim\"]].head(10)"
   ]
  },
  {
   "cell_type": "markdown",
   "id": "a4dd0715",
   "metadata": {},
   "source": [
    "<blockquote style=\"margin-right:auto; margin-left:auto; background-color: #ebf9ff; padding: 1em; margin:24px;\">\n",
    "<strong>Tips on Creating Features</strong><br>\n",
    "It's good to keep in mind your model's own strengths and weaknesses when creating features. Here are some guidelines:\n",
    "<ul>\n",
    "<li> Linear models learn sums and differences naturally, but can't learn anything more complex.\n",
    "<li> Ratios seem to be difficult for most models to learn. Ratio combinations often lead to some easy performance gains.\n",
    "<li> Linear models and neural nets generally do better with normalized features. Neural nets especially need features scaled to values not too far from 0. Tree-based models (like random forests and XGBoost) can sometimes benefit from normalization, but usually much less so.\n",
    "<li> Tree models can learn to approximate almost any combination of features, but when a combination is especially important they can still benefit from having it explicitly created, especially when data is limited.\n",
    "<li> Counts are especially helpful for tree models, since these models don't have a natural way of aggregating information across many features at once.\n",
    "</ul>\n",
    "</blockquote>"
   ]
  },
  {
   "cell_type": "markdown",
   "id": "9f26046b",
   "metadata": {},
   "source": [
    "## 2. Exercice"
   ]
  },
  {
   "cell_type": "markdown",
   "id": "1c588642",
   "metadata": {},
   "source": [
    "**Vous serez notés sur cet exercice.**\n",
    "\n",
    "**C'est un travail individuel.**\n",
    "\n",
    "**Le notebook contenant votre code et le résultat de votre exécution est à envoyer à mghesmoune@gmail.com avec comme objet de mail [`creation_features_votre-nom`]**"
   ]
  },
  {
   "cell_type": "markdown",
   "id": "a7771219",
   "metadata": {},
   "source": [
    "Dans cet exercice, vous commencerez à développer les features que vous avez identifiées dans l'exercice précédent comme ayant le plus de potentiel. Au cours de cet exercice, vous pouvez prendre un moment pour examiner à nouveau la documentation des données et vous demander si les fonctionnalités que nous créons ont du sens d'un point de vue réel et s'il existe des combinaisons utiles qui vous semblent intéressantes."
   ]
  },
  {
   "cell_type": "code",
   "execution_count": null,
   "id": "1055763b",
   "metadata": {},
   "outputs": [],
   "source": [
    "!pip install xgboost"
   ]
  },
  {
   "cell_type": "code",
   "execution_count": null,
   "id": "87465046",
   "metadata": {},
   "outputs": [],
   "source": [
    "import numpy as np\n",
    "import pandas as pd\n",
    "from sklearn.model_selection import cross_val_score\n",
    "from xgboost import XGBRegressor\n",
    "\n",
    "\n",
    "def score_dataset(X, y, model=XGBRegressor()):\n",
    "    # Label encoding for categoricals\n",
    "    for colname in X.select_dtypes([\"category\", \"object\"]):\n",
    "        X[colname], _ = X[colname].factorize()\n",
    "    # Metric for Housing competition is RMSLE (Root Mean Squared Log Error)\n",
    "    score = cross_val_score(\n",
    "        model, X, y, cv=5, scoring=\"neg_mean_squared_log_error\",\n",
    "    )\n",
    "    score = -1 * score.mean()\n",
    "    score = np.sqrt(score)\n",
    "    return score\n",
    "\n",
    "\n",
    "# Prepare data\n",
    "df = pd.read_csv(\"../Data/data2/FE-Course-Data/ames.csv\")\n",
    "X = df.copy()\n",
    "y = X.pop(\"SalePrice\")"
   ]
  },
  {
   "cell_type": "markdown",
   "id": "64ffeb43",
   "metadata": {},
   "source": [
    "-------------------------------------------------------------------------------\n",
    "Commençons par quelques combinaisons mathématiques. Nous nous concentrerons sur les features décrivant les zones -- ayant les mêmes unités permet de les combiner facilement de manière judicieuse. Puisque nous utilisons XGBoost (a tree-based model), nous allons nous concentrer sur les ratios et les sommes.\n",
    "\n",
    "### 1) Create Mathematical Transforms\n",
    "\n",
    "Créer les features suivantes :\n",
    "\n",
    "- `LivLotRatio`: the ratio of `GrLivArea` to `LotArea`\n",
    "- `Spaciousness`: the sum of `FirstFlrSF` and `SecondFlrSF` divided by `TotRmsAbvGrd`\n",
    "- `TotalOutsideSF`: the sum of `WoodDeckSF`, `OpenPorchSF`, `EnclosedPorch`, `Threeseasonporch`, and `ScreenPorch`"
   ]
  },
  {
   "cell_type": "code",
   "execution_count": null,
   "id": "5ece3014",
   "metadata": {},
   "outputs": [],
   "source": [
    "# YOUR CODE HERE\n",
    "X_1 = pd.DataFrame()  # dataframe to hold new features\n",
    "\n",
    "X_1[\"LivLotRatio\"] = ____\n",
    "X_1[\"Spaciousness\"] = ____\n",
    "X_1[\"TotalOutsideSF\"] = ____\n"
   ]
  },
  {
   "cell_type": "markdown",
   "id": "a855033c",
   "metadata": {},
   "source": [
    "-------------------------------------------------------------------------------\n",
    "Si vous avez découvert un effet d'interaction entre une feature numérique et une feature catégorielle, vous souhaiterez peut-être le modéliser explicitement à l'aide d'un encodage one-hot, comme ceci :\n",
    "\n",
    "```\n",
    "# One-hot encode Categorical feature, adding a column prefix \"Cat\"\n",
    "X_new = pd.get_dummies(df.Categorical, prefix=\"Cat\")\n",
    "\n",
    "# Multiply row-by-row\n",
    "X_new = X_new.mul(df.Continuous, axis=0)\n",
    "\n",
    "# Join the new features to the feature set\n",
    "X = X.join(X_new)\n",
    "```\n",
    "\n",
    "### 2) Interaction with a Categorical\n",
    "\n",
    "Nous avons découvert une interaction entre `BldgType` et `GrLivArea` dans l'exercice 2. Créez maintenant leurs features d'interaction. "
   ]
  },
  {
   "cell_type": "code",
   "execution_count": null,
   "id": "71dc15c1",
   "metadata": {},
   "outputs": [],
   "source": [
    "# YOUR CODE HERE\n",
    "# One-hot encode BldgType. Use `prefix=\"Bldg\"` in `get_dummies`\n",
    "X_2 = ____ \n",
    "# Multiply\n",
    "X_2 = ____"
   ]
  },
  {
   "cell_type": "markdown",
   "id": "b3ba4648",
   "metadata": {},
   "source": [
    "### 3) Count Feature\n",
    "\n",
    "Essayons de créer une feature qui décrit le nombre de types d'espaces extérieurs dont dispose une habitation. Créez une feature « PorchTypes » qui compte combien des éléments suivants sont supérieurs à 0,0 :\n",
    "\n",
    "```\n",
    "WoodDeckSF\n",
    "OpenPorchSF\n",
    "EnclosedPorch\n",
    "Threeseasonporch\n",
    "ScreenPorch\n",
    "```"
   ]
  },
  {
   "cell_type": "code",
   "execution_count": null,
   "id": "0a3ea23f",
   "metadata": {},
   "outputs": [],
   "source": [
    "X_3 = pd.DataFrame()\n",
    "\n",
    "# YOUR CODE HERE\n",
    "X_3[\"PorchTypes\"] = ____\n"
   ]
  },
  {
   "cell_type": "markdown",
   "id": "6ba132ed",
   "metadata": {},
   "source": [
    "### 4) Break Down a Categorical Feature\n",
    "\n",
    "`MSSubClass` décrit le type de logement :"
   ]
  },
  {
   "cell_type": "code",
   "execution_count": null,
   "id": "0d4bdfbe",
   "metadata": {},
   "outputs": [],
   "source": [
    "df.MSSubClass.unique()"
   ]
  },
  {
   "cell_type": "markdown",
   "id": "baafa647",
   "metadata": {},
   "source": [
    "Vous pouvez voir qu'il existe une catégorisation plus générale décrite (en gros) par le premier mot de chaque catégorie. Créez une feature contenant uniquement ces premiers mots en divisant `MSSubClass` au premier trait de soulignement `_`. (Indice : dans la méthode `split`, utilisez un argument `n=1`.)"
   ]
  },
  {
   "cell_type": "code",
   "execution_count": null,
   "id": "6361abce",
   "metadata": {},
   "outputs": [],
   "source": [
    "X_4 = pd.DataFrame()\n",
    "\n",
    "# YOUR CODE HERE\n",
    "____"
   ]
  },
  {
   "cell_type": "markdown",
   "id": "9afabca5",
   "metadata": {},
   "source": [
    "### 5) Use a Grouped Transform\n",
    "\n",
    "La valeur d'une maison dépend souvent de la façon dont elle se compare aux maisons typiques de son quartier. Créez une fonction `MedNhbdArea` qui décrit la *médiane* de `GrLivArea` regroupée sur `Neighborhood`."
   ]
  },
  {
   "cell_type": "code",
   "execution_count": null,
   "id": "b4210d2c",
   "metadata": {},
   "outputs": [],
   "source": [
    "X_5 = pd.DataFrame()\n",
    "\n",
    "# YOUR CODE HERE\n",
    "X_5[\"MedNhbdArea\"] = ____\n"
   ]
  },
  {
   "cell_type": "markdown",
   "id": "9f3523e0",
   "metadata": {},
   "source": [
    "Vous avez maintenant créé votre premier ensemble de nouvelles features ! Vous pouvez exécuter la cellule ci-dessous pour évaluer le modèle avec toutes vos nouvelles features ajoutées :"
   ]
  },
  {
   "cell_type": "code",
   "execution_count": null,
   "id": "b68c2f78",
   "metadata": {},
   "outputs": [],
   "source": [
    "X_new = X.join([X_1, X_2, X_3, X_4, X_5])\n",
    "score_dataset(X_new, y)"
   ]
  }
 ],
 "metadata": {
  "jupytext": {
   "cell_metadata_filter": "-all",
   "formats": "ipynb"
  },
  "kernelspec": {
   "display_name": "Python 3",
   "language": "python",
   "name": "python3"
  },
  "language_info": {
   "codemirror_mode": {
    "name": "ipython",
    "version": 3
   },
   "file_extension": ".py",
   "mimetype": "text/x-python",
   "name": "python",
   "nbconvert_exporter": "python",
   "pygments_lexer": "ipython3",
   "version": "3.8.5"
  },
  "papermill": {
   "default_parameters": {},
   "duration": 40.376906,
   "end_time": "2021-10-27T20:05:15.933452",
   "environment_variables": {},
   "exception": null,
   "input_path": "__notebook__.ipynb",
   "output_path": "__notebook__.ipynb",
   "parameters": {},
   "start_time": "2021-10-27T20:04:35.556546",
   "version": "2.3.3"
  }
 },
 "nbformat": 4,
 "nbformat_minor": 5
}
