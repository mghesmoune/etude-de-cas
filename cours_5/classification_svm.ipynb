{
 "cells": [
  {
   "cell_type": "markdown",
   "id": "058cdb08",
   "metadata": {},
   "source": [
    "# Classification avec SVM\n",
    "\n",
    "Dans scikit-learn, il existe un classifieur *LinearSVC()* https://scikit-learn.org/stable/modules/svm.html. Comme son nom l'indique, ce classifier utilise uniquement un noyau linéaire. Dans le classificateur LinearSVC(), nous ne transmettons pas la valeur du noyau car il n'est utilisé qu'à des fins de classification linéaire.\n",
    "\n",
    "Scikit-Learn fournit deux autres classifiers - *SVC()* et *NuSVC()* qui sont utilisés à des fins de classification. Ces classifiers sont pour la plupart similaires avec quelques différences dans les paramètres. NuSVC() est similaire à SVC() mais utilise un paramètre pour contrôler le nombre de vecteurs de support. Nous passons les valeurs de kernel, gamma et C ainsi que d'autres paramètres. Par défaut, le paramètre du noyau utilise rbf comme valeur, mais nous pouvons transmettre des valeurs telles que poly, linear, sigmoïde ou fonction appelable.\n",
    "\n",
    "### description du dataset\n",
    "Les pulsars sont un type rare d'étoile à neutrons qui produisent des émissions radio détectables ici sur Terre. Ils présentent un intérêt scientifique considérable en tant que sondes de l'espace-temps, du milieu interstellaire et des états de la matière. Des algorithmes de classification en particulier sont adoptés, qui traitent les ensembles de données comme des problèmes de classification binaire. Ici, les exemples légitimes de pulsar forment la classe positive minoritaire et les exemples fallacieux forment la classe négative majoritaire.\n",
    "\n",
    "L'ensemble de données partagé ici contient 16 259 exemples parasites causés par RFI/bruit et 1 639 exemples réels de pulsar. Chaque ligne répertorie les variables en premier, et l'étiquette de classe est l'entrée finale. Les étiquettes de classe utilisées sont 0 (négatif) et 1 (positif)."
   ]
  },
  {
   "cell_type": "code",
   "execution_count": null,
   "id": "45e636e0",
   "metadata": {},
   "outputs": [],
   "source": [
    "import numpy as np # linear algebra\n",
    "import pandas as pd # data processing, CSV file I/O (e.g. pd.read_csv)\n",
    "import matplotlib.pyplot as plt # for data visualization\n",
    "import seaborn as sns # for statistical data visualization\n",
    "\n",
    "data = '../Data/data5/pulsar_data_train.csv'\n",
    "\n",
    "df = pd.read_csv(data)"
   ]
  },
  {
   "cell_type": "code",
   "execution_count": null,
   "id": "28fa9753",
   "metadata": {},
   "outputs": [],
   "source": [
    "df['target_class'].value_counts()"
   ]
  },
  {
   "cell_type": "code",
   "execution_count": null,
   "id": "242d03c3",
   "metadata": {},
   "outputs": [],
   "source": [
    "df.info()"
   ]
  },
  {
   "cell_type": "code",
   "execution_count": null,
   "id": "c0c9b32d",
   "metadata": {},
   "outputs": [],
   "source": [
    "df.isnull().sum()"
   ]
  },
  {
   "cell_type": "code",
   "execution_count": null,
   "id": "6794d6bb",
   "metadata": {},
   "outputs": [],
   "source": [
    "# df = ___"
   ]
  },
  {
   "cell_type": "code",
   "execution_count": null,
   "id": "6a7bebc9",
   "metadata": {},
   "outputs": [],
   "source": [
    "X_train = df.drop(['target_class'], axis=1)\n",
    "\n",
    "y_train = df['target_class']"
   ]
  },
  {
   "cell_type": "code",
   "execution_count": null,
   "id": "77d0ec06",
   "metadata": {},
   "outputs": [],
   "source": [
    "df_test = pd.read_csv('../Data/data5/pulsar_data_test.csv')\n",
    "#df_test = ___\n",
    "\n",
    "X_test = df_test.drop(['target_class'], axis=1)\n",
    "\n",
    "y_test = df_test['target_class']"
   ]
  },
  {
   "cell_type": "code",
   "execution_count": null,
   "id": "36dd36cd",
   "metadata": {
    "scrolled": true
   },
   "outputs": [],
   "source": [
    "# Feature Scaling \n",
    "\n",
    "cols = df.columns.drop('target_class')\n",
    "\n",
    "from sklearn.preprocessing import StandardScaler\n",
    "\n",
    "scaler = StandardScaler()\n",
    "\n",
    "X_train = scaler.fit_transform(X_train)\n",
    "\n",
    "X_test = scaler.transform(X_test)\n",
    "\n",
    "X_train = pd.DataFrame(X_train, columns=[cols])\n",
    "\n",
    "X_test = pd.DataFrame(X_test, columns=[cols])\n",
    "\n",
    "X_train.describe()"
   ]
  },
  {
   "cell_type": "markdown",
   "id": "b66ff64f",
   "metadata": {},
   "source": [
    "## Run SVM with default hyperparameters"
   ]
  },
  {
   "cell_type": "code",
   "execution_count": null,
   "id": "cace1fce",
   "metadata": {
    "scrolled": true
   },
   "outputs": [],
   "source": [
    "# import SVC classifier\n",
    "from sklearn.svm import SVC\n",
    "# import metrics to compute accuracy\n",
    "from sklearn.metrics import accuracy_score\n",
    "\n",
    "# instantiate classifier with default hyperparameters\n",
    "svc=SVC() \n",
    "\n",
    "# fit classifier to training set\n",
    "svc.fit(X_train, y_train)"
   ]
  },
  {
   "cell_type": "markdown",
   "id": "94f4d205",
   "metadata": {},
   "source": [
    "Vous avez probablement rencontré une erreur avec ce message\n",
    "`ValueError: Input contains NaN, infinity or a value too large for dtype('float64').`\n",
    "**Pourquoi et quelle est la solution ?**"
   ]
  },
  {
   "cell_type": "code",
   "execution_count": null,
   "id": "f9eca904",
   "metadata": {},
   "outputs": [],
   "source": []
  },
  {
   "cell_type": "code",
   "execution_count": null,
   "id": "e1e46852",
   "metadata": {
    "scrolled": true
   },
   "outputs": [],
   "source": [
    "# make predictions on test set\n",
    "y_pred=svc.predict(X_test)\n",
    "\n",
    "# compute and print accuracy score\n",
    "print('Model accuracy score with default hyperparameters: {0:0.4f}'. format(accuracy_score(y_test, y_pred)))"
   ]
  },
  {
   "cell_type": "markdown",
   "id": "9e2e93b9",
   "metadata": {},
   "source": [
    "**Run SVM with rbf kernel and C=100.0**"
   ]
  },
  {
   "cell_type": "code",
   "execution_count": null,
   "id": "93faacf7",
   "metadata": {},
   "outputs": [],
   "source": [
    "# instantiate classifier with rbf kernel and C=100\n",
    "svc = ___\n",
    "\n",
    "# fit classifier to training set\n",
    "svc.___\n",
    "\n",
    "# make predictions on test set\n",
    "y_pred = svc.___\n",
    "\n",
    "# compute and print accuracy score\n",
    "print('Model accuracy score with rbf kernel and C=100.0 : {0:0.4f}'.format(accuracy_score(y_test, y_pred)))"
   ]
  },
  {
   "cell_type": "markdown",
   "id": "f136cf6e",
   "metadata": {},
   "source": [
    "**Run SVM with rbf kernel and C=1000.0**"
   ]
  },
  {
   "cell_type": "code",
   "execution_count": null,
   "id": "c716fea2",
   "metadata": {},
   "outputs": [],
   "source": []
  },
  {
   "cell_type": "markdown",
   "id": "ae6586b8",
   "metadata": {},
   "source": [
    "Comparez les valeurs d'accuracy ?"
   ]
  },
  {
   "cell_type": "markdown",
   "id": "faea442c",
   "metadata": {},
   "source": [
    "## Run SVM with linear kernel"
   ]
  },
  {
   "cell_type": "code",
   "execution_count": null,
   "id": "d67a705c",
   "metadata": {},
   "outputs": [],
   "source": [
    "# instantiate classifier with linear kernel and C=1.0\n",
    "linear_svc = SVC(kernel='linear', C=1.0) \n",
    "\n",
    "linear_svc.fit(X_train,y_train)\n",
    "\n",
    "y_pred_test = linear_svc.predict(X_test)\n",
    "\n",
    "# compute and print accuracy score\n",
    "print('Model accuracy score with linear kernel and C=1.0 : {0:0.4f}'. format(accuracy_score(y_test, y_pred_test)))"
   ]
  },
  {
   "cell_type": "markdown",
   "id": "eabaef15",
   "metadata": {},
   "source": [
    "**Run SVM with rbf kernel and C=100.0 then C=1000.0**"
   ]
  },
  {
   "cell_type": "code",
   "execution_count": null,
   "id": "3df13529",
   "metadata": {},
   "outputs": [],
   "source": []
  },
  {
   "cell_type": "markdown",
   "id": "8395d6c3",
   "metadata": {},
   "source": [
    "**Compare the train-set and test-set accuracy**\n",
    "\n",
    "Now, we will compare the train-set and test-set accuracy to check for overfitting."
   ]
  },
  {
   "cell_type": "code",
   "execution_count": null,
   "id": "7012d56f",
   "metadata": {},
   "outputs": [],
   "source": [
    "y_pred_train = linear_svc.predict(___)"
   ]
  },
  {
   "cell_type": "code",
   "execution_count": null,
   "id": "8040fbb5",
   "metadata": {},
   "outputs": [],
   "source": [
    "print('Training-set accuracy score: {0:0.4f}'. format(accuracy_score(y_train, y_pred_train)))"
   ]
  },
  {
   "cell_type": "markdown",
   "id": "621417c3",
   "metadata": {},
   "source": [
    "## Run SVM with polynomial kernel\n",
    "\n",
    "**Run SVM with polynomial kernel and C=1.0 then C=100.0**"
   ]
  },
  {
   "cell_type": "code",
   "execution_count": null,
   "id": "9391768b",
   "metadata": {},
   "outputs": [],
   "source": [
    "# instantiate classifier with polynomial kernel and C=1.0\n",
    "poly_svc = SVC(___) \n",
    "\n",
    "poly_svc.fit(X_train,y_train)\n",
    "\n",
    "y_pred = poly_svc.predict(X_test)\n",
    "\n",
    "# compute and print accuracy score\n",
    "print('Model accuracy score with polynomial kernel and C=1.0 : {0:0.4f}'. format(accuracy_score(y_test, y_pred)))"
   ]
  },
  {
   "cell_type": "markdown",
   "id": "5e14fdc2",
   "metadata": {},
   "source": [
    "## Run SVM with sigmoid kernel\n",
    "\n",
    "**Run SVM with sigmoid kernel and C=1.0 then C=100.0**"
   ]
  },
  {
   "cell_type": "code",
   "execution_count": null,
   "id": "dc0f6f99",
   "metadata": {},
   "outputs": [],
   "source": []
  },
  {
   "cell_type": "markdown",
   "id": "147acdd4",
   "metadata": {},
   "source": [
    "**Commentaires**\n",
    "\n",
    "Nous obtenons une précision maximale avec rbf et un noyau linéaire avec C=100.0. et la précision est de 0,9832. Sur la base de l'analyse ci-dessus, nous pouvons conclure que la précision de notre modèle de classification est très bonne. Notre modèle fait un très bon travail en termes de prédiction des étiquettes de classe.\n",
    "\n",
    "Mais ce n'est pas vrai. Ici, nous avons un ensemble de données déséquilibré. Le problème est que la précision est une mesure inadéquate pour quantifier les performances prédictives dans le problème de jeu de données déséquilibré.\n",
    "\n",
    "Nous devons donc explorer des métriques alternatives qui fournissent une meilleure orientation dans la sélection des modèles. En particulier, nous aimerions connaître la distribution sous-jacente des valeurs et le type d'erreurs que fait notre classificateur.\n",
    "\n",
    "Une telle métrique pour analyser les performances du modèle dans le problème des classes déséquilibrées est la matrice de confusion."
   ]
  },
  {
   "cell_type": "markdown",
   "id": "90bca65c",
   "metadata": {},
   "source": [
    "## Matrice de confusion\n",
    "\n",
    "Une matrice de confusion est un outil permettant de résumer les performances d'un algorithme de classification. Une matrice de confusion nous donnera une image claire des performances du modèle de classification et des types d'erreurs produites par le modèle. Elle nous donne un résumé des prédictions correctes et incorrectes ventilées par catégorie. Le résumé est représenté sous forme de tableau.\n",
    "\n",
    "Quatre types de résultats sont possibles lors de l'évaluation des performances d'un modèle de classification. Ces quatre résultats sont décrits ci-dessous :\n",
    "\n",
    "**Vrais positifs (TP)** - Les vrais positifs se produisent lorsque nous prédisons qu'une observation appartient à une certaine classe et que l'observation appartient en fait à cette classe.\n",
    "\n",
    "**Vrais négatifs (TN)** - Les vrais négatifs se produisent lorsque nous prédisons qu'une observation n'appartient pas à une certaine classe et que l'observation n'appartient pas à cette classe.\n",
    "\n",
    "**Faux positifs (FP)** - Les faux positifs se produisent lorsque nous prédisons qu'une observation appartient à une certaine classe mais que l'observation n'appartient pas à cette classe. Ce type d'erreur est appelé erreur de type I.\n",
    "\n",
    "**Faux négatifs (FN)** - Les faux négatifs se produisent lorsque nous prédisons qu'une observation n'appartient pas à une certaine classe mais que l'observation appartient en fait à cette classe. C'est une erreur très grave et elle est appelée erreur de type II.\n",
    "\n",
    "Ces quatre résultats sont résumés dans une matrice de confusion donnée ci-dessous."
   ]
  },
  {
   "cell_type": "code",
   "execution_count": null,
   "id": "e15a3a1e",
   "metadata": {},
   "outputs": [],
   "source": [
    "# Print the Confusion Matrix and slice it into four pieces\n",
    "\n",
    "from sklearn.metrics import confusion_matrix\n",
    "\n",
    "cm = confusion_matrix(y_test, y_pred_test)\n",
    "cm"
   ]
  },
  {
   "cell_type": "code",
   "execution_count": null,
   "id": "45d5d4b4",
   "metadata": {},
   "outputs": [],
   "source": [
    "print('Confusion matrix\\n', cm)\n",
    "\n",
    "print('True Positives(TP) = ', cm[0,0])\n",
    "\n",
    "print('True Negatives(TN) = ', cm[1,1])\n",
    "\n",
    "print('False Positives(FP) = ', cm[0,1])\n",
    "\n",
    "print('False Negatives(FN) = ', cm[1,0])"
   ]
  },
  {
   "cell_type": "markdown",
   "id": "daecdfd6",
   "metadata": {},
   "source": [
    "### Rapport de classification\n",
    "\n",
    "Le rapport de classification est un autre moyen d'évaluer les performances du modèle de classification. Il affiche les scores de précision, de rappel, de f1 et de support pour le modèle. J'ai décrit ces termes plus tard.\n",
    "\n",
    "Nous pouvons imprimer un rapport de classification comme suit :"
   ]
  },
  {
   "cell_type": "code",
   "execution_count": null,
   "id": "65a4a2e7",
   "metadata": {},
   "outputs": [],
   "source": [
    "from sklearn.metrics import classification_report\n",
    "\n",
    "print(classification_report(y_test, y_pred_test))"
   ]
  }
 ],
 "metadata": {
  "kernelspec": {
   "display_name": "Python 3",
   "language": "python",
   "name": "python3"
  },
  "language_info": {
   "codemirror_mode": {
    "name": "ipython",
    "version": 3
   },
   "file_extension": ".py",
   "mimetype": "text/x-python",
   "name": "python",
   "nbconvert_exporter": "python",
   "pygments_lexer": "ipython3",
   "version": "3.8.5"
  }
 },
 "nbformat": 4,
 "nbformat_minor": 5
}
